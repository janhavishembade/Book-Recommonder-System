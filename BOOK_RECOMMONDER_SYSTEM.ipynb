{
  "cells": [
    {
      "cell_type": "markdown",
      "metadata": {
        "id": "view-in-github",
        "colab_type": "text"
      },
      "source": [
        "<a href=\"https://colab.research.google.com/github/janhavishembade/Book-Recommonder-System/blob/main/BOOK_RECOMMONDER_SYSTEM.ipynb\" target=\"_parent\"><img src=\"https://colab.research.google.com/assets/colab-badge.svg\" alt=\"Open In Colab\"/></a>"
      ]
    },
    {
      "cell_type": "markdown",
      "id": "4e56529c",
      "metadata": {
        "id": "4e56529c"
      },
      "source": [
        "# BUISNESS CONTEXT"
      ]
    },
    {
      "cell_type": "markdown",
      "id": "8fcdfbe4",
      "metadata": {
        "id": "8fcdfbe4"
      },
      "source": [
        "During the last few decades, with the rise of Youtube, Amazon, Netflix, and many other such web services, recommender systems have taken more and more place in our lives. From e-commerce (suggest to buyers articles that could interest them) to online advertisement (suggest to users the right contents, matching their preferences), recommender systems are today unavoidable in our daily online journeys.\n",
        "\n",
        "In a very general way, recommender systems are algorithms aimed at suggesting relevant items to users (items being movies to watch, text to read, products to buy, or anything else depending on industries). Recommender systems are really critical in some industries as they can generate a huge amount of income when they are efficient or also be a way to stand out significantly from competitors. The main objective is to create a book recommendation system for users."
      ]
    },
    {
      "cell_type": "markdown",
      "id": "33078d17",
      "metadata": {
        "id": "33078d17"
      },
      "source": [
        "# THERE ARE 3 CSV FILE FOR BOOK RECOOMONDER SYSTEM"
      ]
    },
    {
      "cell_type": "markdown",
      "id": "1acaa9af",
      "metadata": {
        "id": "1acaa9af"
      },
      "source": [
        "# Users"
      ]
    },
    {
      "cell_type": "raw",
      "id": "fc95ba33",
      "metadata": {
        "id": "fc95ba33"
      },
      "source": [
        "Contains the users. Note that user IDs (User-ID) have been anonymized and map to integers. Demographic data is provided (Location, Age) if available. Otherwise, these fields contain NULL values."
      ]
    },
    {
      "cell_type": "markdown",
      "id": "08cb439a",
      "metadata": {
        "id": "08cb439a"
      },
      "source": [
        "# Books"
      ]
    },
    {
      "cell_type": "raw",
      "id": "5fb8895f",
      "metadata": {
        "id": "5fb8895f"
      },
      "source": [
        "Books are identified by their respective ISBN. Invalid ISBNs have already been removed from the dataset. Moreover, some content-based information is given (Book-Title, Book-Author, Year-Of-Publication, Publisher), obtained from Amazon Web Services. Note that in the case of several authors, only the first is provided. URLs linking to cover images are also given, appearing in three different flavors (Image-URL-S, Image-URL-M, Image-URL-L), i.e., small, medium, large. These URLs point to the Amazon website."
      ]
    },
    {
      "cell_type": "markdown",
      "id": "94461aab",
      "metadata": {
        "id": "94461aab"
      },
      "source": [
        "# Ratings"
      ]
    },
    {
      "cell_type": "raw",
      "id": "d20a2d11",
      "metadata": {
        "id": "d20a2d11"
      },
      "source": [
        "Contains the book rating information. Ratings (Book-Rating) are either explicit, expressed on a scale from 1-10 (higher values denoting higher appreciation), or implicit, expressed by 0."
      ]
    },
    {
      "cell_type": "code",
      "execution_count": null,
      "id": "dd0db877",
      "metadata": {
        "id": "dd0db877"
      },
      "outputs": [],
      "source": [
        "#Import Libraries\n",
        "\n",
        "import pandas as pd\n",
        "import numpy as np\n",
        "\n",
        "import seaborn as sns\n",
        "import matplotlib.pyplot as plt"
      ]
    },
    {
      "cell_type": "code",
      "execution_count": null,
      "id": "743f57ed",
      "metadata": {
        "id": "743f57ed",
        "outputId": "137f7786-57b3-4b6f-e4c0-c0a5a0fb7aff"
      },
      "outputs": [
        {
          "data": {
            "text/html": [
              "<div>\n",
              "<style scoped>\n",
              "    .dataframe tbody tr th:only-of-type {\n",
              "        vertical-align: middle;\n",
              "    }\n",
              "\n",
              "    .dataframe tbody tr th {\n",
              "        vertical-align: top;\n",
              "    }\n",
              "\n",
              "    .dataframe thead th {\n",
              "        text-align: right;\n",
              "    }\n",
              "</style>\n",
              "<table border=\"1\" class=\"dataframe\">\n",
              "  <thead>\n",
              "    <tr style=\"text-align: right;\">\n",
              "      <th></th>\n",
              "      <th>ISBN</th>\n",
              "      <th>Book-Title</th>\n",
              "      <th>Book-Author</th>\n",
              "      <th>Year-Of-Publication</th>\n",
              "      <th>Publisher</th>\n",
              "      <th>Image-URL-S</th>\n",
              "      <th>Image-URL-M</th>\n",
              "      <th>Image-URL-L</th>\n",
              "    </tr>\n",
              "  </thead>\n",
              "  <tbody>\n",
              "    <tr>\n",
              "      <th>0</th>\n",
              "      <td>0195153448</td>\n",
              "      <td>Classical Mythology</td>\n",
              "      <td>Mark P. O. Morford</td>\n",
              "      <td>2002</td>\n",
              "      <td>Oxford University Press</td>\n",
              "      <td>http://images.amazon.com/images/P/0195153448.0...</td>\n",
              "      <td>http://images.amazon.com/images/P/0195153448.0...</td>\n",
              "      <td>http://images.amazon.com/images/P/0195153448.0...</td>\n",
              "    </tr>\n",
              "    <tr>\n",
              "      <th>1</th>\n",
              "      <td>0002005018</td>\n",
              "      <td>Clara Callan</td>\n",
              "      <td>Richard Bruce Wright</td>\n",
              "      <td>2001</td>\n",
              "      <td>HarperFlamingo Canada</td>\n",
              "      <td>http://images.amazon.com/images/P/0002005018.0...</td>\n",
              "      <td>http://images.amazon.com/images/P/0002005018.0...</td>\n",
              "      <td>http://images.amazon.com/images/P/0002005018.0...</td>\n",
              "    </tr>\n",
              "    <tr>\n",
              "      <th>2</th>\n",
              "      <td>0060973129</td>\n",
              "      <td>Decision in Normandy</td>\n",
              "      <td>Carlo D'Este</td>\n",
              "      <td>1991</td>\n",
              "      <td>HarperPerennial</td>\n",
              "      <td>http://images.amazon.com/images/P/0060973129.0...</td>\n",
              "      <td>http://images.amazon.com/images/P/0060973129.0...</td>\n",
              "      <td>http://images.amazon.com/images/P/0060973129.0...</td>\n",
              "    </tr>\n",
              "  </tbody>\n",
              "</table>\n",
              "</div>"
            ],
            "text/plain": [
              "         ISBN            Book-Title           Book-Author Year-Of-Publication  \\\n",
              "0  0195153448   Classical Mythology    Mark P. O. Morford                2002   \n",
              "1  0002005018          Clara Callan  Richard Bruce Wright                2001   \n",
              "2  0060973129  Decision in Normandy          Carlo D'Este                1991   \n",
              "\n",
              "                 Publisher                                        Image-URL-S  \\\n",
              "0  Oxford University Press  http://images.amazon.com/images/P/0195153448.0...   \n",
              "1    HarperFlamingo Canada  http://images.amazon.com/images/P/0002005018.0...   \n",
              "2          HarperPerennial  http://images.amazon.com/images/P/0060973129.0...   \n",
              "\n",
              "                                         Image-URL-M  \\\n",
              "0  http://images.amazon.com/images/P/0195153448.0...   \n",
              "1  http://images.amazon.com/images/P/0002005018.0...   \n",
              "2  http://images.amazon.com/images/P/0060973129.0...   \n",
              "\n",
              "                                         Image-URL-L  \n",
              "0  http://images.amazon.com/images/P/0195153448.0...  \n",
              "1  http://images.amazon.com/images/P/0002005018.0...  \n",
              "2  http://images.amazon.com/images/P/0060973129.0...  "
            ]
          },
          "execution_count": 195,
          "metadata": {},
          "output_type": "execute_result"
        }
      ],
      "source": [
        "# check first 3 rows of books\n",
        "df_book=pd.read_csv(\"Books.csv\",low_memory=False)\n",
        "df_book.head(3)"
      ]
    },
    {
      "cell_type": "code",
      "execution_count": null,
      "id": "46482231",
      "metadata": {
        "id": "46482231"
      },
      "outputs": [],
      "source": [
        "#df_book.drop(['Image-URL-S','Image-URL-M','Image-URL-L'],axis=1,inplace=True)"
      ]
    },
    {
      "cell_type": "code",
      "execution_count": null,
      "id": "4fee7cc8",
      "metadata": {
        "id": "4fee7cc8"
      },
      "outputs": [],
      "source": [
        "# replacing '-' with '_' and features name in lower case\n",
        "df_book.columns= df_book.columns.str.strip().str.lower().str.replace('-', '_')"
      ]
    },
    {
      "cell_type": "code",
      "execution_count": null,
      "id": "8f29438f",
      "metadata": {
        "id": "8f29438f",
        "outputId": "bd3c25d0-d1ee-48ee-c1c3-8f42e0144185"
      },
      "outputs": [
        {
          "data": {
            "text/html": [
              "<div>\n",
              "<style scoped>\n",
              "    .dataframe tbody tr th:only-of-type {\n",
              "        vertical-align: middle;\n",
              "    }\n",
              "\n",
              "    .dataframe tbody tr th {\n",
              "        vertical-align: top;\n",
              "    }\n",
              "\n",
              "    .dataframe thead th {\n",
              "        text-align: right;\n",
              "    }\n",
              "</style>\n",
              "<table border=\"1\" class=\"dataframe\">\n",
              "  <thead>\n",
              "    <tr style=\"text-align: right;\">\n",
              "      <th></th>\n",
              "      <th>isbn</th>\n",
              "      <th>book_title</th>\n",
              "      <th>book_author</th>\n",
              "      <th>year_of_publication</th>\n",
              "      <th>publisher</th>\n",
              "      <th>image_url_s</th>\n",
              "      <th>image_url_m</th>\n",
              "      <th>image_url_l</th>\n",
              "    </tr>\n",
              "  </thead>\n",
              "  <tbody>\n",
              "    <tr>\n",
              "      <th>0</th>\n",
              "      <td>0195153448</td>\n",
              "      <td>Classical Mythology</td>\n",
              "      <td>Mark P. O. Morford</td>\n",
              "      <td>2002</td>\n",
              "      <td>Oxford University Press</td>\n",
              "      <td>http://images.amazon.com/images/P/0195153448.0...</td>\n",
              "      <td>http://images.amazon.com/images/P/0195153448.0...</td>\n",
              "      <td>http://images.amazon.com/images/P/0195153448.0...</td>\n",
              "    </tr>\n",
              "    <tr>\n",
              "      <th>1</th>\n",
              "      <td>0002005018</td>\n",
              "      <td>Clara Callan</td>\n",
              "      <td>Richard Bruce Wright</td>\n",
              "      <td>2001</td>\n",
              "      <td>HarperFlamingo Canada</td>\n",
              "      <td>http://images.amazon.com/images/P/0002005018.0...</td>\n",
              "      <td>http://images.amazon.com/images/P/0002005018.0...</td>\n",
              "      <td>http://images.amazon.com/images/P/0002005018.0...</td>\n",
              "    </tr>\n",
              "    <tr>\n",
              "      <th>2</th>\n",
              "      <td>0060973129</td>\n",
              "      <td>Decision in Normandy</td>\n",
              "      <td>Carlo D'Este</td>\n",
              "      <td>1991</td>\n",
              "      <td>HarperPerennial</td>\n",
              "      <td>http://images.amazon.com/images/P/0060973129.0...</td>\n",
              "      <td>http://images.amazon.com/images/P/0060973129.0...</td>\n",
              "      <td>http://images.amazon.com/images/P/0060973129.0...</td>\n",
              "    </tr>\n",
              "  </tbody>\n",
              "</table>\n",
              "</div>"
            ],
            "text/plain": [
              "         isbn            book_title           book_author year_of_publication  \\\n",
              "0  0195153448   Classical Mythology    Mark P. O. Morford                2002   \n",
              "1  0002005018          Clara Callan  Richard Bruce Wright                2001   \n",
              "2  0060973129  Decision in Normandy          Carlo D'Este                1991   \n",
              "\n",
              "                 publisher                                        image_url_s  \\\n",
              "0  Oxford University Press  http://images.amazon.com/images/P/0195153448.0...   \n",
              "1    HarperFlamingo Canada  http://images.amazon.com/images/P/0002005018.0...   \n",
              "2          HarperPerennial  http://images.amazon.com/images/P/0060973129.0...   \n",
              "\n",
              "                                         image_url_m  \\\n",
              "0  http://images.amazon.com/images/P/0195153448.0...   \n",
              "1  http://images.amazon.com/images/P/0002005018.0...   \n",
              "2  http://images.amazon.com/images/P/0060973129.0...   \n",
              "\n",
              "                                         image_url_l  \n",
              "0  http://images.amazon.com/images/P/0195153448.0...  \n",
              "1  http://images.amazon.com/images/P/0002005018.0...  \n",
              "2  http://images.amazon.com/images/P/0060973129.0...  "
            ]
          },
          "execution_count": 198,
          "metadata": {},
          "output_type": "execute_result"
        }
      ],
      "source": [
        "df_book.head(3) #First 3 rows"
      ]
    },
    {
      "cell_type": "code",
      "execution_count": null,
      "id": "19a79142",
      "metadata": {
        "id": "19a79142",
        "outputId": "e85e3c75-6d00-43e6-d387-73a03a425aee"
      },
      "outputs": [
        {
          "data": {
            "text/html": [
              "<div>\n",
              "<style scoped>\n",
              "    .dataframe tbody tr th:only-of-type {\n",
              "        vertical-align: middle;\n",
              "    }\n",
              "\n",
              "    .dataframe tbody tr th {\n",
              "        vertical-align: top;\n",
              "    }\n",
              "\n",
              "    .dataframe thead th {\n",
              "        text-align: right;\n",
              "    }\n",
              "</style>\n",
              "<table border=\"1\" class=\"dataframe\">\n",
              "  <thead>\n",
              "    <tr style=\"text-align: right;\">\n",
              "      <th></th>\n",
              "      <th>isbn</th>\n",
              "      <th>book_title</th>\n",
              "      <th>book_author</th>\n",
              "      <th>year_of_publication</th>\n",
              "      <th>publisher</th>\n",
              "      <th>image_url_s</th>\n",
              "      <th>image_url_m</th>\n",
              "      <th>image_url_l</th>\n",
              "    </tr>\n",
              "  </thead>\n",
              "  <tbody>\n",
              "    <tr>\n",
              "      <th>271355</th>\n",
              "      <td>0440400988</td>\n",
              "      <td>There's a Bat in Bunk Five</td>\n",
              "      <td>Paula Danziger</td>\n",
              "      <td>1988</td>\n",
              "      <td>Random House Childrens Pub (Mm)</td>\n",
              "      <td>http://images.amazon.com/images/P/0440400988.0...</td>\n",
              "      <td>http://images.amazon.com/images/P/0440400988.0...</td>\n",
              "      <td>http://images.amazon.com/images/P/0440400988.0...</td>\n",
              "    </tr>\n",
              "    <tr>\n",
              "      <th>271356</th>\n",
              "      <td>0525447644</td>\n",
              "      <td>From One to One Hundred</td>\n",
              "      <td>Teri Sloat</td>\n",
              "      <td>1991</td>\n",
              "      <td>Dutton Books</td>\n",
              "      <td>http://images.amazon.com/images/P/0525447644.0...</td>\n",
              "      <td>http://images.amazon.com/images/P/0525447644.0...</td>\n",
              "      <td>http://images.amazon.com/images/P/0525447644.0...</td>\n",
              "    </tr>\n",
              "    <tr>\n",
              "      <th>271357</th>\n",
              "      <td>006008667X</td>\n",
              "      <td>Lily Dale : The True Story of the Town that Ta...</td>\n",
              "      <td>Christine Wicker</td>\n",
              "      <td>2004</td>\n",
              "      <td>HarperSanFrancisco</td>\n",
              "      <td>http://images.amazon.com/images/P/006008667X.0...</td>\n",
              "      <td>http://images.amazon.com/images/P/006008667X.0...</td>\n",
              "      <td>http://images.amazon.com/images/P/006008667X.0...</td>\n",
              "    </tr>\n",
              "    <tr>\n",
              "      <th>271358</th>\n",
              "      <td>0192126040</td>\n",
              "      <td>Republic (World's Classics)</td>\n",
              "      <td>Plato</td>\n",
              "      <td>1996</td>\n",
              "      <td>Oxford University Press</td>\n",
              "      <td>http://images.amazon.com/images/P/0192126040.0...</td>\n",
              "      <td>http://images.amazon.com/images/P/0192126040.0...</td>\n",
              "      <td>http://images.amazon.com/images/P/0192126040.0...</td>\n",
              "    </tr>\n",
              "    <tr>\n",
              "      <th>271359</th>\n",
              "      <td>0767409752</td>\n",
              "      <td>A Guided Tour of Rene Descartes' Meditations o...</td>\n",
              "      <td>Christopher  Biffle</td>\n",
              "      <td>2000</td>\n",
              "      <td>McGraw-Hill Humanities/Social Sciences/Languages</td>\n",
              "      <td>http://images.amazon.com/images/P/0767409752.0...</td>\n",
              "      <td>http://images.amazon.com/images/P/0767409752.0...</td>\n",
              "      <td>http://images.amazon.com/images/P/0767409752.0...</td>\n",
              "    </tr>\n",
              "  </tbody>\n",
              "</table>\n",
              "</div>"
            ],
            "text/plain": [
              "              isbn                                         book_title  \\\n",
              "271355  0440400988                         There's a Bat in Bunk Five   \n",
              "271356  0525447644                            From One to One Hundred   \n",
              "271357  006008667X  Lily Dale : The True Story of the Town that Ta...   \n",
              "271358  0192126040                        Republic (World's Classics)   \n",
              "271359  0767409752  A Guided Tour of Rene Descartes' Meditations o...   \n",
              "\n",
              "                book_author year_of_publication  \\\n",
              "271355       Paula Danziger                1988   \n",
              "271356           Teri Sloat                1991   \n",
              "271357     Christine Wicker                2004   \n",
              "271358                Plato                1996   \n",
              "271359  Christopher  Biffle                2000   \n",
              "\n",
              "                                               publisher  \\\n",
              "271355                   Random House Childrens Pub (Mm)   \n",
              "271356                                      Dutton Books   \n",
              "271357                                HarperSanFrancisco   \n",
              "271358                           Oxford University Press   \n",
              "271359  McGraw-Hill Humanities/Social Sciences/Languages   \n",
              "\n",
              "                                              image_url_s  \\\n",
              "271355  http://images.amazon.com/images/P/0440400988.0...   \n",
              "271356  http://images.amazon.com/images/P/0525447644.0...   \n",
              "271357  http://images.amazon.com/images/P/006008667X.0...   \n",
              "271358  http://images.amazon.com/images/P/0192126040.0...   \n",
              "271359  http://images.amazon.com/images/P/0767409752.0...   \n",
              "\n",
              "                                              image_url_m  \\\n",
              "271355  http://images.amazon.com/images/P/0440400988.0...   \n",
              "271356  http://images.amazon.com/images/P/0525447644.0...   \n",
              "271357  http://images.amazon.com/images/P/006008667X.0...   \n",
              "271358  http://images.amazon.com/images/P/0192126040.0...   \n",
              "271359  http://images.amazon.com/images/P/0767409752.0...   \n",
              "\n",
              "                                              image_url_l  \n",
              "271355  http://images.amazon.com/images/P/0440400988.0...  \n",
              "271356  http://images.amazon.com/images/P/0525447644.0...  \n",
              "271357  http://images.amazon.com/images/P/006008667X.0...  \n",
              "271358  http://images.amazon.com/images/P/0192126040.0...  \n",
              "271359  http://images.amazon.com/images/P/0767409752.0...  "
            ]
          },
          "execution_count": 199,
          "metadata": {},
          "output_type": "execute_result"
        }
      ],
      "source": [
        "df_book.tail() # Last 3 rows"
      ]
    },
    {
      "cell_type": "code",
      "execution_count": null,
      "id": "f122cdb2",
      "metadata": {
        "id": "f122cdb2",
        "outputId": "b3973e1e-1761-4239-ce18-0cc26052fc58"
      },
      "outputs": [
        {
          "data": {
            "text/html": [
              "<div>\n",
              "<style scoped>\n",
              "    .dataframe tbody tr th:only-of-type {\n",
              "        vertical-align: middle;\n",
              "    }\n",
              "\n",
              "    .dataframe tbody tr th {\n",
              "        vertical-align: top;\n",
              "    }\n",
              "\n",
              "    .dataframe thead th {\n",
              "        text-align: right;\n",
              "    }\n",
              "</style>\n",
              "<table border=\"1\" class=\"dataframe\">\n",
              "  <thead>\n",
              "    <tr style=\"text-align: right;\">\n",
              "      <th></th>\n",
              "      <th>isbn</th>\n",
              "      <th>book_title</th>\n",
              "      <th>book_author</th>\n",
              "      <th>year_of_publication</th>\n",
              "      <th>publisher</th>\n",
              "      <th>image_url_s</th>\n",
              "      <th>image_url_m</th>\n",
              "      <th>image_url_l</th>\n",
              "    </tr>\n",
              "  </thead>\n",
              "  <tbody>\n",
              "    <tr>\n",
              "      <th>count</th>\n",
              "      <td>271360</td>\n",
              "      <td>271360</td>\n",
              "      <td>271359</td>\n",
              "      <td>271360</td>\n",
              "      <td>271358</td>\n",
              "      <td>271360</td>\n",
              "      <td>271360</td>\n",
              "      <td>271357</td>\n",
              "    </tr>\n",
              "    <tr>\n",
              "      <th>unique</th>\n",
              "      <td>271360</td>\n",
              "      <td>242135</td>\n",
              "      <td>102023</td>\n",
              "      <td>118</td>\n",
              "      <td>16807</td>\n",
              "      <td>271044</td>\n",
              "      <td>271044</td>\n",
              "      <td>271041</td>\n",
              "    </tr>\n",
              "    <tr>\n",
              "      <th>top</th>\n",
              "      <td>0195153448</td>\n",
              "      <td>Selected Poems</td>\n",
              "      <td>Agatha Christie</td>\n",
              "      <td>2002</td>\n",
              "      <td>Harlequin</td>\n",
              "      <td>http://images.amazon.com/images/P/185326119X.0...</td>\n",
              "      <td>http://images.amazon.com/images/P/185326119X.0...</td>\n",
              "      <td>http://images.amazon.com/images/P/225307649X.0...</td>\n",
              "    </tr>\n",
              "    <tr>\n",
              "      <th>freq</th>\n",
              "      <td>1</td>\n",
              "      <td>27</td>\n",
              "      <td>632</td>\n",
              "      <td>17627</td>\n",
              "      <td>7535</td>\n",
              "      <td>2</td>\n",
              "      <td>2</td>\n",
              "      <td>2</td>\n",
              "    </tr>\n",
              "  </tbody>\n",
              "</table>\n",
              "</div>"
            ],
            "text/plain": [
              "              isbn      book_title      book_author year_of_publication  \\\n",
              "count       271360          271360           271359              271360   \n",
              "unique      271360          242135           102023                 118   \n",
              "top     0195153448  Selected Poems  Agatha Christie                2002   \n",
              "freq             1              27              632               17627   \n",
              "\n",
              "        publisher                                        image_url_s  \\\n",
              "count      271358                                             271360   \n",
              "unique      16807                                             271044   \n",
              "top     Harlequin  http://images.amazon.com/images/P/185326119X.0...   \n",
              "freq         7535                                                  2   \n",
              "\n",
              "                                              image_url_m  \\\n",
              "count                                              271360   \n",
              "unique                                             271044   \n",
              "top     http://images.amazon.com/images/P/185326119X.0...   \n",
              "freq                                                    2   \n",
              "\n",
              "                                              image_url_l  \n",
              "count                                              271357  \n",
              "unique                                             271041  \n",
              "top     http://images.amazon.com/images/P/225307649X.0...  \n",
              "freq                                                    2  "
            ]
          },
          "execution_count": 200,
          "metadata": {},
          "output_type": "execute_result"
        }
      ],
      "source": [
        "df_book.describe() #Describe Book Data"
      ]
    },
    {
      "cell_type": "code",
      "execution_count": null,
      "id": "fcef4a52",
      "metadata": {
        "id": "fcef4a52",
        "outputId": "5fdc4a1f-ab26-4cb4-e311-695a58b83a33"
      },
      "outputs": [
        {
          "data": {
            "text/plain": [
              "isbn                   0\n",
              "book_title             0\n",
              "book_author            1\n",
              "year_of_publication    0\n",
              "publisher              2\n",
              "image_url_s            0\n",
              "image_url_m            0\n",
              "image_url_l            3\n",
              "dtype: int64"
            ]
          },
          "execution_count": 201,
          "metadata": {},
          "output_type": "execute_result"
        }
      ],
      "source": [
        "df_book.isnull().sum() #Chek the null values in book data"
      ]
    },
    {
      "cell_type": "code",
      "execution_count": null,
      "id": "0b1dd5de",
      "metadata": {
        "id": "0b1dd5de",
        "outputId": "e56bf8a7-33b5-4be6-f239-b45d5c86bdbd"
      },
      "outputs": [
        {
          "data": {
            "text/html": [
              "<div>\n",
              "<style scoped>\n",
              "    .dataframe tbody tr th:only-of-type {\n",
              "        vertical-align: middle;\n",
              "    }\n",
              "\n",
              "    .dataframe tbody tr th {\n",
              "        vertical-align: top;\n",
              "    }\n",
              "\n",
              "    .dataframe thead th {\n",
              "        text-align: right;\n",
              "    }\n",
              "</style>\n",
              "<table border=\"1\" class=\"dataframe\">\n",
              "  <thead>\n",
              "    <tr style=\"text-align: right;\">\n",
              "      <th></th>\n",
              "      <th>isbn</th>\n",
              "      <th>book_title</th>\n",
              "      <th>book_author</th>\n",
              "      <th>year_of_publication</th>\n",
              "      <th>publisher</th>\n",
              "      <th>image_url_s</th>\n",
              "      <th>image_url_m</th>\n",
              "      <th>image_url_l</th>\n",
              "    </tr>\n",
              "  </thead>\n",
              "  <tbody>\n",
              "    <tr>\n",
              "      <th>187689</th>\n",
              "      <td>9627982032</td>\n",
              "      <td>The Credit Suisse Guide to Managing Your Perso...</td>\n",
              "      <td>NaN</td>\n",
              "      <td>1995</td>\n",
              "      <td>Edinburgh Financial Publishing</td>\n",
              "      <td>http://images.amazon.com/images/P/9627982032.0...</td>\n",
              "      <td>http://images.amazon.com/images/P/9627982032.0...</td>\n",
              "      <td>http://images.amazon.com/images/P/9627982032.0...</td>\n",
              "    </tr>\n",
              "  </tbody>\n",
              "</table>\n",
              "</div>"
            ],
            "text/plain": [
              "              isbn                                         book_title  \\\n",
              "187689  9627982032  The Credit Suisse Guide to Managing Your Perso...   \n",
              "\n",
              "       book_author year_of_publication                       publisher  \\\n",
              "187689         NaN                1995  Edinburgh Financial Publishing   \n",
              "\n",
              "                                              image_url_s  \\\n",
              "187689  http://images.amazon.com/images/P/9627982032.0...   \n",
              "\n",
              "                                              image_url_m  \\\n",
              "187689  http://images.amazon.com/images/P/9627982032.0...   \n",
              "\n",
              "                                              image_url_l  \n",
              "187689  http://images.amazon.com/images/P/9627982032.0...  "
            ]
          },
          "execution_count": 202,
          "metadata": {},
          "output_type": "execute_result"
        }
      ],
      "source": [
        "df_book.loc[(df_book['book_author'].isnull()),: ] #Chek null value for book data"
      ]
    },
    {
      "cell_type": "code",
      "execution_count": null,
      "id": "efa63157",
      "metadata": {
        "id": "efa63157"
      },
      "outputs": [],
      "source": [
        "df_book['book_author'].fillna('Larissa Anne Downes',inplace=True) #Fiil the null values"
      ]
    },
    {
      "cell_type": "code",
      "execution_count": null,
      "id": "58cd710e",
      "metadata": {
        "id": "58cd710e",
        "outputId": "ca21b003-52d6-468e-93c9-b1577eefa4e2"
      },
      "outputs": [
        {
          "data": {
            "text/html": [
              "<div>\n",
              "<style scoped>\n",
              "    .dataframe tbody tr th:only-of-type {\n",
              "        vertical-align: middle;\n",
              "    }\n",
              "\n",
              "    .dataframe tbody tr th {\n",
              "        vertical-align: top;\n",
              "    }\n",
              "\n",
              "    .dataframe thead th {\n",
              "        text-align: right;\n",
              "    }\n",
              "</style>\n",
              "<table border=\"1\" class=\"dataframe\">\n",
              "  <thead>\n",
              "    <tr style=\"text-align: right;\">\n",
              "      <th></th>\n",
              "      <th>isbn</th>\n",
              "      <th>book_title</th>\n",
              "      <th>book_author</th>\n",
              "      <th>year_of_publication</th>\n",
              "      <th>publisher</th>\n",
              "      <th>image_url_s</th>\n",
              "      <th>image_url_m</th>\n",
              "      <th>image_url_l</th>\n",
              "    </tr>\n",
              "  </thead>\n",
              "  <tbody>\n",
              "    <tr>\n",
              "      <th>128890</th>\n",
              "      <td>193169656X</td>\n",
              "      <td>Tyrant Moon</td>\n",
              "      <td>Elaine Corvidae</td>\n",
              "      <td>2002</td>\n",
              "      <td>NaN</td>\n",
              "      <td>http://images.amazon.com/images/P/193169656X.0...</td>\n",
              "      <td>http://images.amazon.com/images/P/193169656X.0...</td>\n",
              "      <td>http://images.amazon.com/images/P/193169656X.0...</td>\n",
              "    </tr>\n",
              "    <tr>\n",
              "      <th>129037</th>\n",
              "      <td>1931696993</td>\n",
              "      <td>Finders Keepers</td>\n",
              "      <td>Linnea Sinclair</td>\n",
              "      <td>2001</td>\n",
              "      <td>NaN</td>\n",
              "      <td>http://images.amazon.com/images/P/1931696993.0...</td>\n",
              "      <td>http://images.amazon.com/images/P/1931696993.0...</td>\n",
              "      <td>http://images.amazon.com/images/P/1931696993.0...</td>\n",
              "    </tr>\n",
              "  </tbody>\n",
              "</table>\n",
              "</div>"
            ],
            "text/plain": [
              "              isbn       book_title      book_author year_of_publication  \\\n",
              "128890  193169656X      Tyrant Moon  Elaine Corvidae                2002   \n",
              "129037  1931696993  Finders Keepers  Linnea Sinclair                2001   \n",
              "\n",
              "       publisher                                        image_url_s  \\\n",
              "128890       NaN  http://images.amazon.com/images/P/193169656X.0...   \n",
              "129037       NaN  http://images.amazon.com/images/P/1931696993.0...   \n",
              "\n",
              "                                              image_url_m  \\\n",
              "128890  http://images.amazon.com/images/P/193169656X.0...   \n",
              "129037  http://images.amazon.com/images/P/1931696993.0...   \n",
              "\n",
              "                                              image_url_l  \n",
              "128890  http://images.amazon.com/images/P/193169656X.0...  \n",
              "129037  http://images.amazon.com/images/P/1931696993.0...  "
            ]
          },
          "execution_count": 204,
          "metadata": {},
          "output_type": "execute_result"
        }
      ],
      "source": [
        "df_book.loc[(df_book['publisher'].isnull()),: ] #chek null value for publisher data"
      ]
    },
    {
      "cell_type": "code",
      "execution_count": null,
      "id": "d3c1dd9c",
      "metadata": {
        "id": "d3c1dd9c"
      },
      "outputs": [],
      "source": [
        "# replacing 'Nan' with 'No Mention'\n",
        "df_book.loc[(df_book['isbn'] == '193169656X'),'publisher'] = 'No Mention'\n",
        "df_book.loc[(df_book['isbn'] == '1931696993'),'publisher'] = 'No Mention'"
      ]
    },
    {
      "cell_type": "code",
      "execution_count": null,
      "id": "0aba6482",
      "metadata": {
        "id": "0aba6482",
        "outputId": "228a05cb-a4f4-406c-8818-507d8a1ed07b"
      },
      "outputs": [
        {
          "data": {
            "text/plain": [
              "isbn                   0\n",
              "book_title             0\n",
              "book_author            0\n",
              "year_of_publication    0\n",
              "publisher              0\n",
              "image_url_s            0\n",
              "image_url_m            0\n",
              "image_url_l            3\n",
              "dtype: int64"
            ]
          },
          "execution_count": 206,
          "metadata": {},
          "output_type": "execute_result"
        }
      ],
      "source": [
        "df_book.isnull().sum()"
      ]
    },
    {
      "cell_type": "code",
      "execution_count": null,
      "id": "4243e61e",
      "metadata": {
        "id": "4243e61e",
        "outputId": "e0d347ad-354e-44ca-f1c6-5d88c26c881e"
      },
      "outputs": [
        {
          "data": {
            "text/plain": [
              "array(['2002', '2001', '1991', '1999', '2000', '1993', '1996', '1988',\n",
              "       '2004', '1998', '1994', '2003', '1997', '1983', '1979', '1995',\n",
              "       '1982', '1985', '1992', '1986', '1978', '1980', '1952', '1987',\n",
              "       '1990', '1981', '1989', '1984', '0', '1968', '1961', '1958',\n",
              "       '1974', '1976', '1971', '1977', '1975', '1965', '1941', '1970',\n",
              "       '1962', '1973', '1972', '1960', '1966', '1920', '1956', '1959',\n",
              "       '1953', '1951', '1942', '1963', '1964', '1969', '1954', '1950',\n",
              "       '1967', '2005', '1957', '1940', '1937', '1955', '1946', '1936',\n",
              "       '1930', '2011', '1925', '1948', '1943', '1947', '1945', '1923',\n",
              "       '2020', '1939', '1926', '1938', '2030', '1911', '1904', '1949',\n",
              "       '1932', '1928', '1929', '1927', '1931', '1914', '2050', '1934',\n",
              "       '1910', '1933', '1902', '1924', '1921', '1900', '2038', '2026',\n",
              "       '1944', '1917', '1901', '2010', '1908', '1906', '1935', '1806',\n",
              "       '2021', '2012', '2006', 'DK Publishing Inc', 'Gallimard', '1909',\n",
              "       '2008', '1378', '1919', '1922', '1897', '2024', '1376', '2037'],\n",
              "      dtype=object)"
            ]
          },
          "execution_count": 207,
          "metadata": {},
          "output_type": "execute_result"
        }
      ],
      "source": [
        "# getting unique value from 'year_of_publication' feature\n",
        "df_book['year_of_publication'].unique()"
      ]
    },
    {
      "cell_type": "code",
      "execution_count": null,
      "id": "f85e7911",
      "metadata": {
        "id": "f85e7911",
        "outputId": "7fe3e649-aad5-47b5-c303-cae0f4b798fc"
      },
      "outputs": [
        {
          "data": {
            "text/html": [
              "<div>\n",
              "<style scoped>\n",
              "    .dataframe tbody tr th:only-of-type {\n",
              "        vertical-align: middle;\n",
              "    }\n",
              "\n",
              "    .dataframe tbody tr th {\n",
              "        vertical-align: top;\n",
              "    }\n",
              "\n",
              "    .dataframe thead th {\n",
              "        text-align: right;\n",
              "    }\n",
              "</style>\n",
              "<table border=\"1\" class=\"dataframe\">\n",
              "  <thead>\n",
              "    <tr style=\"text-align: right;\">\n",
              "      <th></th>\n",
              "      <th>isbn</th>\n",
              "      <th>book_title</th>\n",
              "      <th>book_author</th>\n",
              "      <th>year_of_publication</th>\n",
              "      <th>publisher</th>\n",
              "      <th>image_url_s</th>\n",
              "      <th>image_url_m</th>\n",
              "      <th>image_url_l</th>\n",
              "    </tr>\n",
              "  </thead>\n",
              "  <tbody>\n",
              "    <tr>\n",
              "      <th>209538</th>\n",
              "      <td>078946697X</td>\n",
              "      <td>DK Readers: Creating the X-Men, How It All Beg...</td>\n",
              "      <td>2000</td>\n",
              "      <td>DK Publishing Inc</td>\n",
              "      <td>http://images.amazon.com/images/P/078946697X.0...</td>\n",
              "      <td>http://images.amazon.com/images/P/078946697X.0...</td>\n",
              "      <td>http://images.amazon.com/images/P/078946697X.0...</td>\n",
              "      <td>NaN</td>\n",
              "    </tr>\n",
              "    <tr>\n",
              "      <th>221678</th>\n",
              "      <td>0789466953</td>\n",
              "      <td>DK Readers: Creating the X-Men, How Comic Book...</td>\n",
              "      <td>2000</td>\n",
              "      <td>DK Publishing Inc</td>\n",
              "      <td>http://images.amazon.com/images/P/0789466953.0...</td>\n",
              "      <td>http://images.amazon.com/images/P/0789466953.0...</td>\n",
              "      <td>http://images.amazon.com/images/P/0789466953.0...</td>\n",
              "      <td>NaN</td>\n",
              "    </tr>\n",
              "  </tbody>\n",
              "</table>\n",
              "</div>"
            ],
            "text/plain": [
              "              isbn                                         book_title  \\\n",
              "209538  078946697X  DK Readers: Creating the X-Men, How It All Beg...   \n",
              "221678  0789466953  DK Readers: Creating the X-Men, How Comic Book...   \n",
              "\n",
              "       book_author year_of_publication  \\\n",
              "209538        2000   DK Publishing Inc   \n",
              "221678        2000   DK Publishing Inc   \n",
              "\n",
              "                                                publisher  \\\n",
              "209538  http://images.amazon.com/images/P/078946697X.0...   \n",
              "221678  http://images.amazon.com/images/P/0789466953.0...   \n",
              "\n",
              "                                              image_url_s  \\\n",
              "209538  http://images.amazon.com/images/P/078946697X.0...   \n",
              "221678  http://images.amazon.com/images/P/0789466953.0...   \n",
              "\n",
              "                                              image_url_m image_url_l  \n",
              "209538  http://images.amazon.com/images/P/078946697X.0...         NaN  \n",
              "221678  http://images.amazon.com/images/P/0789466953.0...         NaN  "
            ]
          },
          "execution_count": 208,
          "metadata": {},
          "output_type": "execute_result"
        }
      ],
      "source": [
        "# Extracting and fixing mismatch in feature 'year_of_publication', 'publisher', 'book_author', 'book_title'\n",
        "df_book[df_book['year_of_publication'] == 'DK Publishing Inc'] "
      ]
    },
    {
      "cell_type": "code",
      "execution_count": null,
      "id": "fddf616a",
      "metadata": {
        "id": "fddf616a",
        "outputId": "454c3ade-9f81-4787-9638-42d95389f791"
      },
      "outputs": [
        {
          "data": {
            "text/html": [
              "<div>\n",
              "<style scoped>\n",
              "    .dataframe tbody tr th:only-of-type {\n",
              "        vertical-align: middle;\n",
              "    }\n",
              "\n",
              "    .dataframe tbody tr th {\n",
              "        vertical-align: top;\n",
              "    }\n",
              "\n",
              "    .dataframe thead th {\n",
              "        text-align: right;\n",
              "    }\n",
              "</style>\n",
              "<table border=\"1\" class=\"dataframe\">\n",
              "  <thead>\n",
              "    <tr style=\"text-align: right;\">\n",
              "      <th></th>\n",
              "      <th>isbn</th>\n",
              "      <th>book_title</th>\n",
              "      <th>book_author</th>\n",
              "      <th>year_of_publication</th>\n",
              "      <th>publisher</th>\n",
              "      <th>image_url_s</th>\n",
              "      <th>image_url_m</th>\n",
              "      <th>image_url_l</th>\n",
              "    </tr>\n",
              "  </thead>\n",
              "  <tbody>\n",
              "    <tr>\n",
              "      <th>220731</th>\n",
              "      <td>2070426769</td>\n",
              "      <td>Peuple du ciel, suivi de 'Les Bergers\\\";Jean-M...</td>\n",
              "      <td>2003</td>\n",
              "      <td>Gallimard</td>\n",
              "      <td>http://images.amazon.com/images/P/2070426769.0...</td>\n",
              "      <td>http://images.amazon.com/images/P/2070426769.0...</td>\n",
              "      <td>http://images.amazon.com/images/P/2070426769.0...</td>\n",
              "      <td>NaN</td>\n",
              "    </tr>\n",
              "  </tbody>\n",
              "</table>\n",
              "</div>"
            ],
            "text/plain": [
              "              isbn                                         book_title  \\\n",
              "220731  2070426769  Peuple du ciel, suivi de 'Les Bergers\\\";Jean-M...   \n",
              "\n",
              "       book_author year_of_publication  \\\n",
              "220731        2003           Gallimard   \n",
              "\n",
              "                                                publisher  \\\n",
              "220731  http://images.amazon.com/images/P/2070426769.0...   \n",
              "\n",
              "                                              image_url_s  \\\n",
              "220731  http://images.amazon.com/images/P/2070426769.0...   \n",
              "\n",
              "                                              image_url_m image_url_l  \n",
              "220731  http://images.amazon.com/images/P/2070426769.0...         NaN  "
            ]
          },
          "execution_count": 209,
          "metadata": {},
          "output_type": "execute_result"
        }
      ],
      "source": [
        "# Extracting and fixing mismatch in feature 'year_of_publication', 'publisher', 'book_author', 'book_title' \n",
        "df_book[df_book['year_of_publication'] == 'Gallimard']"
      ]
    },
    {
      "cell_type": "code",
      "execution_count": null,
      "id": "9aaa3765",
      "metadata": {
        "id": "9aaa3765",
        "outputId": "116bf985-9693-4ec0-958a-eceaa860b36e"
      },
      "outputs": [
        {
          "data": {
            "text/plain": [
              "isbn                                                          0789466953\n",
              "book_title             DK Readers: Creating the X-Men, How Comic Book...\n",
              "book_author                                                         2000\n",
              "year_of_publication                                    DK Publishing Inc\n",
              "publisher              http://images.amazon.com/images/P/0789466953.0...\n",
              "image_url_s            http://images.amazon.com/images/P/0789466953.0...\n",
              "image_url_m            http://images.amazon.com/images/P/0789466953.0...\n",
              "image_url_l                                                          NaN\n",
              "Name: 221678, dtype: object"
            ]
          },
          "execution_count": 210,
          "metadata": {},
          "output_type": "execute_result"
        }
      ],
      "source": [
        "df_book.loc[221678]"
      ]
    },
    {
      "cell_type": "code",
      "execution_count": null,
      "id": "572d463e",
      "metadata": {
        "id": "572d463e",
        "outputId": "a875b328-f96d-4c0c-a72c-e9a5a6f4c884"
      },
      "outputs": [
        {
          "data": {
            "text/plain": [
              "isbn                                                          078946697X\n",
              "book_title             DK Readers: Creating the X-Men, How It All Beg...\n",
              "book_author                                                         2000\n",
              "year_of_publication                                    DK Publishing Inc\n",
              "publisher              http://images.amazon.com/images/P/078946697X.0...\n",
              "image_url_s            http://images.amazon.com/images/P/078946697X.0...\n",
              "image_url_m            http://images.amazon.com/images/P/078946697X.0...\n",
              "image_url_l                                                          NaN\n",
              "Name: 209538, dtype: object"
            ]
          },
          "execution_count": 211,
          "metadata": {},
          "output_type": "execute_result"
        }
      ],
      "source": [
        "df_book.loc[209538]"
      ]
    },
    {
      "cell_type": "code",
      "execution_count": null,
      "id": "97b72d77",
      "metadata": {
        "id": "97b72d77",
        "outputId": "2ee735e8-dff0-4b65-db3b-81711aa3e2fc"
      },
      "outputs": [
        {
          "data": {
            "text/plain": [
              "isbn                                                          2070426769\n",
              "book_title             Peuple du ciel, suivi de 'Les Bergers\\\";Jean-M...\n",
              "book_author                                                         2003\n",
              "year_of_publication                                            Gallimard\n",
              "publisher              http://images.amazon.com/images/P/2070426769.0...\n",
              "image_url_s            http://images.amazon.com/images/P/2070426769.0...\n",
              "image_url_m            http://images.amazon.com/images/P/2070426769.0...\n",
              "image_url_l                                                          NaN\n",
              "Name: 220731, dtype: object"
            ]
          },
          "execution_count": 212,
          "metadata": {},
          "output_type": "execute_result"
        }
      ],
      "source": [
        "df_book.loc[220731]"
      ]
    },
    {
      "cell_type": "code",
      "execution_count": null,
      "id": "2a338273",
      "metadata": {
        "id": "2a338273",
        "outputId": "dbbc1246-003e-4848-dbca-bc79a1242488"
      },
      "outputs": [
        {
          "data": {
            "text/html": [
              "<div>\n",
              "<style scoped>\n",
              "    .dataframe tbody tr th:only-of-type {\n",
              "        vertical-align: middle;\n",
              "    }\n",
              "\n",
              "    .dataframe tbody tr th {\n",
              "        vertical-align: top;\n",
              "    }\n",
              "\n",
              "    .dataframe thead th {\n",
              "        text-align: right;\n",
              "    }\n",
              "</style>\n",
              "<table border=\"1\" class=\"dataframe\">\n",
              "  <thead>\n",
              "    <tr style=\"text-align: right;\">\n",
              "      <th></th>\n",
              "      <th>isbn</th>\n",
              "      <th>book_title</th>\n",
              "      <th>book_author</th>\n",
              "      <th>year_of_publication</th>\n",
              "      <th>publisher</th>\n",
              "      <th>image_url_s</th>\n",
              "      <th>image_url_m</th>\n",
              "      <th>image_url_l</th>\n",
              "    </tr>\n",
              "  </thead>\n",
              "  <tbody>\n",
              "    <tr>\n",
              "      <th>128890</th>\n",
              "      <td>193169656X</td>\n",
              "      <td>Tyrant Moon</td>\n",
              "      <td>Elaine Corvidae</td>\n",
              "      <td>2002</td>\n",
              "      <td>No Mention</td>\n",
              "      <td>http://images.amazon.com/images/P/193169656X.0...</td>\n",
              "      <td>http://images.amazon.com/images/P/193169656X.0...</td>\n",
              "      <td>http://images.amazon.com/images/P/193169656X.0...</td>\n",
              "    </tr>\n",
              "    <tr>\n",
              "      <th>129037</th>\n",
              "      <td>1931696993</td>\n",
              "      <td>Finders Keepers</td>\n",
              "      <td>Linnea Sinclair</td>\n",
              "      <td>2001</td>\n",
              "      <td>No Mention</td>\n",
              "      <td>http://images.amazon.com/images/P/1931696993.0...</td>\n",
              "      <td>http://images.amazon.com/images/P/1931696993.0...</td>\n",
              "      <td>http://images.amazon.com/images/P/1931696993.0...</td>\n",
              "    </tr>\n",
              "  </tbody>\n",
              "</table>\n",
              "</div>"
            ],
            "text/plain": [
              "              isbn       book_title      book_author year_of_publication  \\\n",
              "128890  193169656X      Tyrant Moon  Elaine Corvidae                2002   \n",
              "129037  1931696993  Finders Keepers  Linnea Sinclair                2001   \n",
              "\n",
              "         publisher                                        image_url_s  \\\n",
              "128890  No Mention  http://images.amazon.com/images/P/193169656X.0...   \n",
              "129037  No Mention  http://images.amazon.com/images/P/1931696993.0...   \n",
              "\n",
              "                                              image_url_m  \\\n",
              "128890  http://images.amazon.com/images/P/193169656X.0...   \n",
              "129037  http://images.amazon.com/images/P/1931696993.0...   \n",
              "\n",
              "                                              image_url_l  \n",
              "128890  http://images.amazon.com/images/P/193169656X.0...  \n",
              "129037  http://images.amazon.com/images/P/1931696993.0...  "
            ]
          },
          "execution_count": 213,
          "metadata": {},
          "output_type": "execute_result"
        }
      ],
      "source": [
        "df_book[df_book['publisher'] == 'No Mention']"
      ]
    },
    {
      "cell_type": "markdown",
      "id": "dcf9d520",
      "metadata": {
        "id": "dcf9d520"
      },
      "source": [
        "# USER DATASET"
      ]
    },
    {
      "cell_type": "code",
      "execution_count": null,
      "id": "8db7c79f",
      "metadata": {
        "id": "8db7c79f",
        "outputId": "0c3453d7-04ab-447c-f5d2-18f5abccdf53"
      },
      "outputs": [
        {
          "data": {
            "text/html": [
              "<div>\n",
              "<style scoped>\n",
              "    .dataframe tbody tr th:only-of-type {\n",
              "        vertical-align: middle;\n",
              "    }\n",
              "\n",
              "    .dataframe tbody tr th {\n",
              "        vertical-align: top;\n",
              "    }\n",
              "\n",
              "    .dataframe thead th {\n",
              "        text-align: right;\n",
              "    }\n",
              "</style>\n",
              "<table border=\"1\" class=\"dataframe\">\n",
              "  <thead>\n",
              "    <tr style=\"text-align: right;\">\n",
              "      <th></th>\n",
              "      <th>User-ID</th>\n",
              "      <th>Location</th>\n",
              "      <th>Age</th>\n",
              "    </tr>\n",
              "  </thead>\n",
              "  <tbody>\n",
              "    <tr>\n",
              "      <th>0</th>\n",
              "      <td>1</td>\n",
              "      <td>nyc, new york, usa</td>\n",
              "      <td>NaN</td>\n",
              "    </tr>\n",
              "    <tr>\n",
              "      <th>1</th>\n",
              "      <td>2</td>\n",
              "      <td>stockton, california, usa</td>\n",
              "      <td>18.0</td>\n",
              "    </tr>\n",
              "    <tr>\n",
              "      <th>2</th>\n",
              "      <td>3</td>\n",
              "      <td>moscow, yukon territory, russia</td>\n",
              "      <td>NaN</td>\n",
              "    </tr>\n",
              "    <tr>\n",
              "      <th>3</th>\n",
              "      <td>4</td>\n",
              "      <td>porto, v.n.gaia, portugal</td>\n",
              "      <td>17.0</td>\n",
              "    </tr>\n",
              "    <tr>\n",
              "      <th>4</th>\n",
              "      <td>5</td>\n",
              "      <td>farnborough, hants, united kingdom</td>\n",
              "      <td>NaN</td>\n",
              "    </tr>\n",
              "    <tr>\n",
              "      <th>...</th>\n",
              "      <td>...</td>\n",
              "      <td>...</td>\n",
              "      <td>...</td>\n",
              "    </tr>\n",
              "    <tr>\n",
              "      <th>278853</th>\n",
              "      <td>278854</td>\n",
              "      <td>portland, oregon, usa</td>\n",
              "      <td>NaN</td>\n",
              "    </tr>\n",
              "    <tr>\n",
              "      <th>278854</th>\n",
              "      <td>278855</td>\n",
              "      <td>tacoma, washington, united kingdom</td>\n",
              "      <td>50.0</td>\n",
              "    </tr>\n",
              "    <tr>\n",
              "      <th>278855</th>\n",
              "      <td>278856</td>\n",
              "      <td>brampton, ontario, canada</td>\n",
              "      <td>NaN</td>\n",
              "    </tr>\n",
              "    <tr>\n",
              "      <th>278856</th>\n",
              "      <td>278857</td>\n",
              "      <td>knoxville, tennessee, usa</td>\n",
              "      <td>NaN</td>\n",
              "    </tr>\n",
              "    <tr>\n",
              "      <th>278857</th>\n",
              "      <td>278858</td>\n",
              "      <td>dublin, n/a, ireland</td>\n",
              "      <td>NaN</td>\n",
              "    </tr>\n",
              "  </tbody>\n",
              "</table>\n",
              "<p>278858 rows × 3 columns</p>\n",
              "</div>"
            ],
            "text/plain": [
              "        User-ID                            Location   Age\n",
              "0             1                  nyc, new york, usa   NaN\n",
              "1             2           stockton, california, usa  18.0\n",
              "2             3     moscow, yukon territory, russia   NaN\n",
              "3             4           porto, v.n.gaia, portugal  17.0\n",
              "4             5  farnborough, hants, united kingdom   NaN\n",
              "...         ...                                 ...   ...\n",
              "278853   278854               portland, oregon, usa   NaN\n",
              "278854   278855  tacoma, washington, united kingdom  50.0\n",
              "278855   278856           brampton, ontario, canada   NaN\n",
              "278856   278857           knoxville, tennessee, usa   NaN\n",
              "278857   278858                dublin, n/a, ireland   NaN\n",
              "\n",
              "[278858 rows x 3 columns]"
            ]
          },
          "execution_count": 214,
          "metadata": {},
          "output_type": "execute_result"
        }
      ],
      "source": [
        "#dataframe for User Dataset\n",
        "df_user=pd.read_csv(\"Users.csv\")\n",
        "df_user"
      ]
    },
    {
      "cell_type": "code",
      "execution_count": null,
      "id": "9d37391a",
      "metadata": {
        "id": "9d37391a"
      },
      "outputs": [],
      "source": [
        "df_user.columns= df_user.columns.str.strip().str.lower().str.replace('-', '_')"
      ]
    },
    {
      "cell_type": "code",
      "execution_count": null,
      "id": "2a8d94a7",
      "metadata": {
        "id": "2a8d94a7",
        "outputId": "c1e037d1-6cd7-4db0-98c8-ea195743feec"
      },
      "outputs": [
        {
          "data": {
            "text/html": [
              "<div>\n",
              "<style scoped>\n",
              "    .dataframe tbody tr th:only-of-type {\n",
              "        vertical-align: middle;\n",
              "    }\n",
              "\n",
              "    .dataframe tbody tr th {\n",
              "        vertical-align: top;\n",
              "    }\n",
              "\n",
              "    .dataframe thead th {\n",
              "        text-align: right;\n",
              "    }\n",
              "</style>\n",
              "<table border=\"1\" class=\"dataframe\">\n",
              "  <thead>\n",
              "    <tr style=\"text-align: right;\">\n",
              "      <th></th>\n",
              "      <th>user_id</th>\n",
              "      <th>location</th>\n",
              "      <th>age</th>\n",
              "    </tr>\n",
              "  </thead>\n",
              "  <tbody>\n",
              "    <tr>\n",
              "      <th>0</th>\n",
              "      <td>1</td>\n",
              "      <td>nyc, new york, usa</td>\n",
              "      <td>NaN</td>\n",
              "    </tr>\n",
              "    <tr>\n",
              "      <th>1</th>\n",
              "      <td>2</td>\n",
              "      <td>stockton, california, usa</td>\n",
              "      <td>18.0</td>\n",
              "    </tr>\n",
              "    <tr>\n",
              "      <th>2</th>\n",
              "      <td>3</td>\n",
              "      <td>moscow, yukon territory, russia</td>\n",
              "      <td>NaN</td>\n",
              "    </tr>\n",
              "    <tr>\n",
              "      <th>3</th>\n",
              "      <td>4</td>\n",
              "      <td>porto, v.n.gaia, portugal</td>\n",
              "      <td>17.0</td>\n",
              "    </tr>\n",
              "    <tr>\n",
              "      <th>4</th>\n",
              "      <td>5</td>\n",
              "      <td>farnborough, hants, united kingdom</td>\n",
              "      <td>NaN</td>\n",
              "    </tr>\n",
              "  </tbody>\n",
              "</table>\n",
              "</div>"
            ],
            "text/plain": [
              "   user_id                            location   age\n",
              "0        1                  nyc, new york, usa   NaN\n",
              "1        2           stockton, california, usa  18.0\n",
              "2        3     moscow, yukon territory, russia   NaN\n",
              "3        4           porto, v.n.gaia, portugal  17.0\n",
              "4        5  farnborough, hants, united kingdom   NaN"
            ]
          },
          "execution_count": 216,
          "metadata": {},
          "output_type": "execute_result"
        }
      ],
      "source": [
        "df_user.head()"
      ]
    },
    {
      "cell_type": "code",
      "execution_count": null,
      "id": "108e9926",
      "metadata": {
        "id": "108e9926",
        "outputId": "41a24b45-b4d1-4c2d-f9da-eb6b84f93508"
      },
      "outputs": [
        {
          "name": "stdout",
          "output_type": "stream",
          "text": [
            "(278858, 3)\n"
          ]
        }
      ],
      "source": [
        "# users_data size\n",
        "print(df_user.shape)"
      ]
    },
    {
      "cell_type": "code",
      "execution_count": null,
      "id": "2be3e7a1",
      "metadata": {
        "id": "2be3e7a1",
        "outputId": "b22baa77-5e77-4d1f-cc53-d07832f62224"
      },
      "outputs": [
        {
          "data": {
            "text/plain": [
              "array([ nan,  18.,  17.,  61.,  26.,  14.,  25.,  19.,  46.,  55.,  32.,\n",
              "        24.,  20.,  34.,  23.,  51.,  31.,  21.,  44.,  30.,  57.,  43.,\n",
              "        37.,  41.,  54.,  42.,  50.,  39.,  53.,  47.,  36.,  28.,  35.,\n",
              "        13.,  58.,  49.,  38.,  45.,  62.,  63.,  27.,  33.,  29.,  66.,\n",
              "        40.,  15.,  60.,   0.,  79.,  22.,  16.,  65.,  59.,  48.,  72.,\n",
              "        56.,  67.,   1.,  80.,  52.,  69.,  71.,  73.,  78.,   9.,  64.,\n",
              "       103., 104.,  12.,  74.,  75., 231.,   3.,  76.,  83.,  68., 119.,\n",
              "        11.,  77.,   2.,  70.,  93.,   8.,   7.,   4.,  81., 114., 230.,\n",
              "       239.,  10.,   5., 148., 151.,   6., 101., 201.,  96.,  84.,  82.,\n",
              "        90., 123., 244., 133.,  91., 128.,  94.,  85., 141., 110.,  97.,\n",
              "       219.,  86., 124.,  92., 175., 172., 209., 212., 237.,  87., 162.,\n",
              "       100., 156., 136.,  95.,  89., 106.,  99., 108., 210.,  88., 199.,\n",
              "       147., 168., 132., 159., 186., 152., 102., 116., 200., 115., 226.,\n",
              "       137., 207., 229., 138., 109., 105., 228., 183., 204.,  98., 223.,\n",
              "       113., 208., 107., 157., 111., 146., 118., 220., 143., 140., 189.,\n",
              "       127.])"
            ]
          },
          "execution_count": 218,
          "metadata": {},
          "output_type": "execute_result"
        }
      ],
      "source": [
        "# unique value in age\n",
        "df_user['age'].unique()"
      ]
    },
    {
      "cell_type": "code",
      "execution_count": null,
      "id": "524660e0",
      "metadata": {
        "id": "524660e0"
      },
      "outputs": [],
      "source": [
        "# replacing nan with average of 'age'\n",
        "df_user['age'].fillna((df_user['age'].mean()), inplace=True)"
      ]
    },
    {
      "cell_type": "code",
      "execution_count": null,
      "id": "6e8329cc",
      "metadata": {
        "id": "6e8329cc",
        "outputId": "5447bb02-5fb8-46d0-f5d7-fc7f69ce755c"
      },
      "outputs": [
        {
          "data": {
            "text/plain": [
              "array([ 34.7514337,  18.       ,  17.       ,  61.       ,  26.       ,\n",
              "        14.       ,  25.       ,  19.       ,  46.       ,  55.       ,\n",
              "        32.       ,  24.       ,  20.       ,  34.       ,  23.       ,\n",
              "        51.       ,  31.       ,  21.       ,  44.       ,  30.       ,\n",
              "        57.       ,  43.       ,  37.       ,  41.       ,  54.       ,\n",
              "        42.       ,  50.       ,  39.       ,  53.       ,  47.       ,\n",
              "        36.       ,  28.       ,  35.       ,  13.       ,  58.       ,\n",
              "        49.       ,  38.       ,  45.       ,  62.       ,  63.       ,\n",
              "        27.       ,  33.       ,  29.       ,  66.       ,  40.       ,\n",
              "        15.       ,  60.       ,   0.       ,  79.       ,  22.       ,\n",
              "        16.       ,  65.       ,  59.       ,  48.       ,  72.       ,\n",
              "        56.       ,  67.       ,   1.       ,  80.       ,  52.       ,\n",
              "        69.       ,  71.       ,  73.       ,  78.       ,   9.       ,\n",
              "        64.       , 103.       , 104.       ,  12.       ,  74.       ,\n",
              "        75.       , 231.       ,   3.       ,  76.       ,  83.       ,\n",
              "        68.       , 119.       ,  11.       ,  77.       ,   2.       ,\n",
              "        70.       ,  93.       ,   8.       ,   7.       ,   4.       ,\n",
              "        81.       , 114.       , 230.       , 239.       ,  10.       ,\n",
              "         5.       , 148.       , 151.       ,   6.       , 101.       ,\n",
              "       201.       ,  96.       ,  84.       ,  82.       ,  90.       ,\n",
              "       123.       , 244.       , 133.       ,  91.       , 128.       ,\n",
              "        94.       ,  85.       , 141.       , 110.       ,  97.       ,\n",
              "       219.       ,  86.       , 124.       ,  92.       , 175.       ,\n",
              "       172.       , 209.       , 212.       , 237.       ,  87.       ,\n",
              "       162.       , 100.       , 156.       , 136.       ,  95.       ,\n",
              "        89.       , 106.       ,  99.       , 108.       , 210.       ,\n",
              "        88.       , 199.       , 147.       , 168.       , 132.       ,\n",
              "       159.       , 186.       , 152.       , 102.       , 116.       ,\n",
              "       200.       , 115.       , 226.       , 137.       , 207.       ,\n",
              "       229.       , 138.       , 109.       , 105.       , 228.       ,\n",
              "       183.       , 204.       ,  98.       , 223.       , 113.       ,\n",
              "       208.       , 107.       , 157.       , 111.       , 146.       ,\n",
              "       118.       , 220.       , 143.       , 140.       , 189.       ,\n",
              "       127.       ])"
            ]
          },
          "execution_count": 220,
          "metadata": {},
          "output_type": "execute_result"
        }
      ],
      "source": [
        "df_user['age'].unique()"
      ]
    },
    {
      "cell_type": "code",
      "execution_count": null,
      "id": "0f3259ff",
      "metadata": {
        "id": "0f3259ff"
      },
      "outputs": [],
      "source": [
        "# retrieving age data between 5 to 90\n",
        "df_user.loc[(df_user['age'] > 90) | (df_user['age'] < 5)] = np.nan"
      ]
    },
    {
      "cell_type": "code",
      "execution_count": null,
      "id": "8619fc1a",
      "metadata": {
        "id": "8619fc1a"
      },
      "outputs": [],
      "source": [
        "df_user['age'].fillna((df_user['age'].mean()), inplace=True)"
      ]
    },
    {
      "cell_type": "code",
      "execution_count": null,
      "id": "66737eb7",
      "metadata": {
        "id": "66737eb7",
        "outputId": "e5607d3b-8427-4506-cf88-7a4f74105716"
      },
      "outputs": [
        {
          "data": {
            "text/plain": [
              "array([34.7514337 , 18.        , 17.        , 61.        , 26.        ,\n",
              "       14.        , 25.        , 19.        , 46.        , 55.        ,\n",
              "       32.        , 24.        , 20.        , 34.        , 23.        ,\n",
              "       51.        , 31.        , 21.        , 44.        , 30.        ,\n",
              "       57.        , 43.        , 37.        , 41.        , 54.        ,\n",
              "       42.        , 50.        , 39.        , 53.        , 47.        ,\n",
              "       36.        , 28.        , 35.        , 13.        , 58.        ,\n",
              "       49.        , 38.        , 45.        , 62.        , 63.        ,\n",
              "       27.        , 33.        , 29.        , 66.        , 40.        ,\n",
              "       15.        , 60.        , 34.73485224, 79.        , 22.        ,\n",
              "       16.        , 65.        , 59.        , 48.        , 72.        ,\n",
              "       56.        , 67.        , 80.        , 52.        , 69.        ,\n",
              "       71.        , 73.        , 78.        ,  9.        , 64.        ,\n",
              "       12.        , 74.        , 75.        , 76.        , 83.        ,\n",
              "       68.        , 11.        , 77.        , 70.        ,  8.        ,\n",
              "        7.        , 81.        , 10.        ,  5.        ,  6.        ,\n",
              "       84.        , 82.        , 90.        , 85.        , 86.        ,\n",
              "       87.        , 89.        , 88.        ])"
            ]
          },
          "execution_count": 223,
          "metadata": {},
          "output_type": "execute_result"
        }
      ],
      "source": [
        "df_user['age'].unique()"
      ]
    },
    {
      "cell_type": "markdown",
      "id": "14cec30d",
      "metadata": {
        "id": "14cec30d"
      },
      "source": [
        "# RATING DATASET"
      ]
    },
    {
      "cell_type": "code",
      "execution_count": null,
      "id": "d862adc0",
      "metadata": {
        "id": "d862adc0",
        "outputId": "71f5d83b-e635-412b-a1b3-9b997641d673"
      },
      "outputs": [
        {
          "data": {
            "text/html": [
              "<div>\n",
              "<style scoped>\n",
              "    .dataframe tbody tr th:only-of-type {\n",
              "        vertical-align: middle;\n",
              "    }\n",
              "\n",
              "    .dataframe tbody tr th {\n",
              "        vertical-align: top;\n",
              "    }\n",
              "\n",
              "    .dataframe thead th {\n",
              "        text-align: right;\n",
              "    }\n",
              "</style>\n",
              "<table border=\"1\" class=\"dataframe\">\n",
              "  <thead>\n",
              "    <tr style=\"text-align: right;\">\n",
              "      <th></th>\n",
              "      <th>User-ID</th>\n",
              "      <th>ISBN</th>\n",
              "      <th>Book-Rating</th>\n",
              "    </tr>\n",
              "  </thead>\n",
              "  <tbody>\n",
              "    <tr>\n",
              "      <th>0</th>\n",
              "      <td>276725</td>\n",
              "      <td>034545104X</td>\n",
              "      <td>0</td>\n",
              "    </tr>\n",
              "    <tr>\n",
              "      <th>1</th>\n",
              "      <td>276726</td>\n",
              "      <td>0155061224</td>\n",
              "      <td>5</td>\n",
              "    </tr>\n",
              "    <tr>\n",
              "      <th>2</th>\n",
              "      <td>276727</td>\n",
              "      <td>0446520802</td>\n",
              "      <td>0</td>\n",
              "    </tr>\n",
              "    <tr>\n",
              "      <th>3</th>\n",
              "      <td>276729</td>\n",
              "      <td>052165615X</td>\n",
              "      <td>3</td>\n",
              "    </tr>\n",
              "    <tr>\n",
              "      <th>4</th>\n",
              "      <td>276729</td>\n",
              "      <td>0521795028</td>\n",
              "      <td>6</td>\n",
              "    </tr>\n",
              "    <tr>\n",
              "      <th>...</th>\n",
              "      <td>...</td>\n",
              "      <td>...</td>\n",
              "      <td>...</td>\n",
              "    </tr>\n",
              "    <tr>\n",
              "      <th>1149775</th>\n",
              "      <td>276704</td>\n",
              "      <td>1563526298</td>\n",
              "      <td>9</td>\n",
              "    </tr>\n",
              "    <tr>\n",
              "      <th>1149776</th>\n",
              "      <td>276706</td>\n",
              "      <td>0679447156</td>\n",
              "      <td>0</td>\n",
              "    </tr>\n",
              "    <tr>\n",
              "      <th>1149777</th>\n",
              "      <td>276709</td>\n",
              "      <td>0515107662</td>\n",
              "      <td>10</td>\n",
              "    </tr>\n",
              "    <tr>\n",
              "      <th>1149778</th>\n",
              "      <td>276721</td>\n",
              "      <td>0590442449</td>\n",
              "      <td>10</td>\n",
              "    </tr>\n",
              "    <tr>\n",
              "      <th>1149779</th>\n",
              "      <td>276723</td>\n",
              "      <td>05162443314</td>\n",
              "      <td>8</td>\n",
              "    </tr>\n",
              "  </tbody>\n",
              "</table>\n",
              "<p>1149780 rows × 3 columns</p>\n",
              "</div>"
            ],
            "text/plain": [
              "         User-ID         ISBN  Book-Rating\n",
              "0         276725   034545104X            0\n",
              "1         276726   0155061224            5\n",
              "2         276727   0446520802            0\n",
              "3         276729   052165615X            3\n",
              "4         276729   0521795028            6\n",
              "...          ...          ...          ...\n",
              "1149775   276704   1563526298            9\n",
              "1149776   276706   0679447156            0\n",
              "1149777   276709   0515107662           10\n",
              "1149778   276721   0590442449           10\n",
              "1149779   276723  05162443314            8\n",
              "\n",
              "[1149780 rows x 3 columns]"
            ]
          },
          "execution_count": 224,
          "metadata": {},
          "output_type": "execute_result"
        }
      ],
      "source": [
        "#Dataframe for Rating data\n",
        "df_rating=pd.read_csv(\"Ratings.csv\")\n",
        "df_rating"
      ]
    },
    {
      "cell_type": "code",
      "execution_count": null,
      "id": "9fb81e05",
      "metadata": {
        "id": "9fb81e05"
      },
      "outputs": [],
      "source": [
        "df_rating.columns= df_rating.columns.str.strip().str.lower().str.replace('-', '_')"
      ]
    },
    {
      "cell_type": "code",
      "execution_count": null,
      "id": "152850ed",
      "metadata": {
        "id": "152850ed",
        "outputId": "28d2dd74-965f-42d4-868f-f8a511ea4b38"
      },
      "outputs": [
        {
          "data": {
            "text/html": [
              "<div>\n",
              "<style scoped>\n",
              "    .dataframe tbody tr th:only-of-type {\n",
              "        vertical-align: middle;\n",
              "    }\n",
              "\n",
              "    .dataframe tbody tr th {\n",
              "        vertical-align: top;\n",
              "    }\n",
              "\n",
              "    .dataframe thead th {\n",
              "        text-align: right;\n",
              "    }\n",
              "</style>\n",
              "<table border=\"1\" class=\"dataframe\">\n",
              "  <thead>\n",
              "    <tr style=\"text-align: right;\">\n",
              "      <th></th>\n",
              "      <th>user_id</th>\n",
              "      <th>isbn</th>\n",
              "      <th>book_rating</th>\n",
              "    </tr>\n",
              "  </thead>\n",
              "  <tbody>\n",
              "    <tr>\n",
              "      <th>0</th>\n",
              "      <td>276725</td>\n",
              "      <td>034545104X</td>\n",
              "      <td>0</td>\n",
              "    </tr>\n",
              "    <tr>\n",
              "      <th>1</th>\n",
              "      <td>276726</td>\n",
              "      <td>0155061224</td>\n",
              "      <td>5</td>\n",
              "    </tr>\n",
              "    <tr>\n",
              "      <th>2</th>\n",
              "      <td>276727</td>\n",
              "      <td>0446520802</td>\n",
              "      <td>0</td>\n",
              "    </tr>\n",
              "    <tr>\n",
              "      <th>3</th>\n",
              "      <td>276729</td>\n",
              "      <td>052165615X</td>\n",
              "      <td>3</td>\n",
              "    </tr>\n",
              "    <tr>\n",
              "      <th>4</th>\n",
              "      <td>276729</td>\n",
              "      <td>0521795028</td>\n",
              "      <td>6</td>\n",
              "    </tr>\n",
              "    <tr>\n",
              "      <th>...</th>\n",
              "      <td>...</td>\n",
              "      <td>...</td>\n",
              "      <td>...</td>\n",
              "    </tr>\n",
              "    <tr>\n",
              "      <th>1149774</th>\n",
              "      <td>276704</td>\n",
              "      <td>0876044011</td>\n",
              "      <td>0</td>\n",
              "    </tr>\n",
              "    <tr>\n",
              "      <th>1149775</th>\n",
              "      <td>276704</td>\n",
              "      <td>1563526298</td>\n",
              "      <td>9</td>\n",
              "    </tr>\n",
              "    <tr>\n",
              "      <th>1149776</th>\n",
              "      <td>276706</td>\n",
              "      <td>0679447156</td>\n",
              "      <td>0</td>\n",
              "    </tr>\n",
              "    <tr>\n",
              "      <th>1149777</th>\n",
              "      <td>276709</td>\n",
              "      <td>0515107662</td>\n",
              "      <td>10</td>\n",
              "    </tr>\n",
              "    <tr>\n",
              "      <th>1149778</th>\n",
              "      <td>276721</td>\n",
              "      <td>0590442449</td>\n",
              "      <td>10</td>\n",
              "    </tr>\n",
              "  </tbody>\n",
              "</table>\n",
              "<p>1031136 rows × 3 columns</p>\n",
              "</div>"
            ],
            "text/plain": [
              "         user_id        isbn  book_rating\n",
              "0         276725  034545104X            0\n",
              "1         276726  0155061224            5\n",
              "2         276727  0446520802            0\n",
              "3         276729  052165615X            3\n",
              "4         276729  0521795028            6\n",
              "...          ...         ...          ...\n",
              "1149774   276704  0876044011            0\n",
              "1149775   276704  1563526298            9\n",
              "1149776   276706  0679447156            0\n",
              "1149777   276709  0515107662           10\n",
              "1149778   276721  0590442449           10\n",
              "\n",
              "[1031136 rows x 3 columns]"
            ]
          },
          "execution_count": 226,
          "metadata": {},
          "output_type": "execute_result"
        }
      ],
      "source": [
        "# finding unique ISBNs from rating and book dataset\n",
        "unique_ratings = df_rating[df_rating.isbn.isin(df_book.isbn)]\n",
        "unique_ratings"
      ]
    },
    {
      "cell_type": "code",
      "execution_count": null,
      "id": "06e78431",
      "metadata": {
        "id": "06e78431",
        "outputId": "f9cb3056-1fa6-49a8-fe66-a32661702314"
      },
      "outputs": [
        {
          "name": "stdout",
          "output_type": "stream",
          "text": [
            "(1149780, 3)\n",
            "(1031136, 3)\n"
          ]
        }
      ],
      "source": [
        "print(df_rating.shape)\n",
        "print(unique_ratings.shape)"
      ]
    },
    {
      "cell_type": "code",
      "execution_count": null,
      "id": "4d894173",
      "metadata": {
        "id": "4d894173",
        "outputId": "c6ee11cc-fd72-4f5c-9d6b-c758561d0dc7"
      },
      "outputs": [
        {
          "data": {
            "text/plain": [
              "array([ 0,  5,  3,  6,  7,  9,  8, 10,  1,  4,  2], dtype=int64)"
            ]
          },
          "execution_count": 228,
          "metadata": {},
          "output_type": "execute_result"
        }
      ],
      "source": [
        "# unique ratings from 'book_rating' feature\n",
        "unique_ratings['book_rating'].unique()"
      ]
    },
    {
      "cell_type": "markdown",
      "id": "932306be",
      "metadata": {
        "id": "932306be"
      },
      "source": [
        "# Data Visualizations"
      ]
    },
    {
      "cell_type": "code",
      "execution_count": null,
      "id": "1cc80a8b",
      "metadata": {
        "id": "1cc80a8b",
        "outputId": "46611518-7801-455a-d224-35a80e9a8e5b"
      },
      "outputs": [
        {
          "data": {
            "text/plain": [
              "Text(0.5, 1.0, 'Top 20 author with number of books')"
            ]
          },
          "execution_count": 229,
          "metadata": {},
          "output_type": "execute_result"
        },
        {
          "data": {
            "image/png": "[encoded data removed]",
            "text/plain": [
              "<Figure size 864x432 with 1 Axes>"
            ]
          },
          "metadata": {
            "needs_background": "light"
          },
          "output_type": "display_data"
        }
      ],
      "source": [
        "plt.figure(figsize=(12,6))\n",
        "sns.countplot(y=\"book_author\",palette = 'Paired', data=df_book,order=df_book['book_author'].value_counts().index[0:20])\n",
        "plt.title(\"Top 20 author with number of books\")"
      ]
    },
    {
      "cell_type": "raw",
      "id": "10878fe3",
      "metadata": {
        "id": "10878fe3"
      },
      "source": [
        "Among top 20 Authors the highest number of books has been hold by Agatha Christie. Agatha Christie is leading at top with more than 600 counts, followed by William Shakespeare"
      ]
    },
    {
      "cell_type": "code",
      "execution_count": null,
      "id": "0363555b",
      "metadata": {
        "id": "0363555b",
        "outputId": "b461682d-25cc-4f56-adeb-ff46fdc5ec6b"
      },
      "outputs": [
        {
          "data": {
            "text/plain": [
              "Text(0.5, 1.0, 'Top 20 Publishers with number of books published')"
            ]
          },
          "execution_count": 230,
          "metadata": {},
          "output_type": "execute_result"
        },
        {
          "data": {
            "image/png": "[encoded data removed]",
            "text/plain": [
              "<Figure size 864x432 with 1 Axes>"
            ]
          },
          "metadata": {
            "needs_background": "light"
          },
          "output_type": "display_data"
        }
      ],
      "source": [
        "plt.figure(figsize=(12,6))\n",
        "sns.countplot(y=\"publisher\",palette = 'Paired', data=df_book,order=df_book['publisher'].value_counts().index[0:20])\n",
        "plt.title(\"Top 20 Publishers with number of books published\")"
      ]
    },
    {
      "cell_type": "raw",
      "id": "db935334",
      "metadata": {
        "id": "db935334"
      },
      "source": [
        "Among top 20 Books Publishers the top 20 number of book publisher is Harlequin"
      ]
    },
    {
      "cell_type": "markdown",
      "id": "b0171ba5",
      "metadata": {
        "id": "b0171ba5"
      },
      "source": [
        "# User_data Dataset"
      ]
    },
    {
      "cell_type": "code",
      "execution_count": null,
      "id": "b225401a",
      "metadata": {
        "id": "b225401a",
        "outputId": "31eae22e-47e2-466b-dcb7-0c159c287bfb"
      },
      "outputs": [
        {
          "data": {
            "image/png": "[encoded data removed]",
            "text/plain": [
              "<Figure size 720x576 with 1 Axes>"
            ]
          },
          "metadata": {
            "needs_background": "light"
          },
          "output_type": "display_data"
        }
      ],
      "source": [
        "plt.figure(figsize=(10,8))\n",
        "df_user.age.hist(bins=[10*i for i in range(1, 10)], color = 'cyan')     \n",
        "plt.title('Age Distribution')\n",
        "plt.xlabel('Age')\n",
        "plt.ylabel('Count')\n",
        "plt.show()"
      ]
    },
    {
      "cell_type": "raw",
      "id": "1efb4562",
      "metadata": {
        "id": "1efb4562"
      },
      "source": [
        "Most User are from the age of 10 to 70 years of age and max users age is in 30 to 40"
      ]
    },
    {
      "cell_type": "markdown",
      "id": "42d2b80b",
      "metadata": {
        "id": "42d2b80b"
      },
      "source": [
        "# RATING DATASET"
      ]
    },
    {
      "cell_type": "code",
      "execution_count": null,
      "id": "35a35b2f",
      "metadata": {
        "id": "35a35b2f",
        "outputId": "1265b96a-10eb-42b6-d1b7-da2be7851dc2"
      },
      "outputs": [
        {
          "data": {
            "text/plain": [
              "Text(0.5, 1.0, 'Top 20 books as per number of ratings')"
            ]
          },
          "execution_count": 232,
          "metadata": {},
          "output_type": "execute_result"
        },
        {
          "data": {
            "image/png": "[encoded data removed]",
            "text/plain": [
              "<Figure size 864x432 with 1 Axes>"
            ]
          },
          "metadata": {
            "needs_background": "light"
          },
          "output_type": "display_data"
        }
      ],
      "source": [
        "plt.figure(figsize=(12,6))\n",
        "sns.countplot(y=\"book_title\",palette = 'Paired',data= df_book, order=df_book['book_title'].value_counts().index[0:15])\n",
        "plt.title(\"Top 20 books as per number of ratings\")"
      ]
    },
    {
      "cell_type": "raw",
      "id": "59ac7de9",
      "metadata": {
        "id": "59ac7de9"
      },
      "source": [
        "op 20 book which having highest number of ratings are given to Selected poems follwed by Little women"
      ]
    },
    {
      "cell_type": "code",
      "execution_count": null,
      "id": "2119ba2c",
      "metadata": {
        "id": "2119ba2c",
        "outputId": "08e24a08-95a6-44ae-fa6d-ef41aba2c43a"
      },
      "outputs": [
        {
          "data": {
            "text/plain": [
              "<AxesSubplot:xlabel='book_rating', ylabel='count'>"
            ]
          },
          "execution_count": 233,
          "metadata": {},
          "output_type": "execute_result"
        },
        {
          "data": {
            "image/png": "[encoded data removed]",
            "text/plain": [
              "<Figure size 576x432 with 1 Axes>"
            ]
          },
          "metadata": {
            "needs_background": "light"
          },
          "output_type": "display_data"
        }
      ],
      "source": [
        "plt.figure(figsize=(8,6))\n",
        "sns.countplot(x=\"book_rating\",palette = 'Paired',data= unique_ratings)"
      ]
    },
    {
      "cell_type": "code",
      "execution_count": null,
      "id": "c07f6603",
      "metadata": {
        "id": "c07f6603",
        "outputId": "583e2ae6-40d3-4287-e576-027dbd759c37"
      },
      "outputs": [
        {
          "data": {
            "text/plain": [
              "Text(0.5, 1.0, 'Explicit Ratings')"
            ]
          },
          "execution_count": 234,
          "metadata": {},
          "output_type": "execute_result"
        },
        {
          "data": {
            "image/png": "[encoded data removed]",
            "text/plain": [
              "<Figure size 576x432 with 1 Axes>"
            ]
          },
          "metadata": {
            "needs_background": "light"
          },
          "output_type": "display_data"
        }
      ],
      "source": [
        "# Explicit Ratings\n",
        "plt.figure(figsize=(8,6))\n",
        "rate_data = unique_ratings[unique_ratings['book_rating'] != 0]\n",
        "sns.countplot(x=\"book_rating\",palette = 'Paired',data=rate_data)\n",
        "plt.title(\"Explicit Ratings\")"
      ]
    },
    {
      "cell_type": "raw",
      "id": "fb60a5df",
      "metadata": {
        "id": "fb60a5df"
      },
      "source": [
        "Out of 10 Almost all users give rating above 5 and max rating is given by 8"
      ]
    },
    {
      "cell_type": "markdown",
      "id": "6cf769eb",
      "metadata": {
        "id": "6cf769eb"
      },
      "source": [
        "# Recommendation System"
      ]
    },
    {
      "cell_type": "code",
      "execution_count": null,
      "id": "035ad46d",
      "metadata": {
        "id": "035ad46d"
      },
      "outputs": [],
      "source": [
        "ratings_explicit= unique_ratings[unique_ratings['book_rating'] != 0]   # explicit ratings represented by 1–10\n",
        "ratings_implicit= unique_ratings[unique_ratings['book_rating'] == 0]   # implicit ratings represented by 0"
      ]
    },
    {
      "cell_type": "code",
      "execution_count": null,
      "id": "809aea3e",
      "metadata": {
        "id": "809aea3e",
        "outputId": "ff0a91dd-5afe-4fc9-e0ad-bb8c0e56e3fd"
      },
      "outputs": [
        {
          "data": {
            "text/html": [
              "<div>\n",
              "<style scoped>\n",
              "    .dataframe tbody tr th:only-of-type {\n",
              "        vertical-align: middle;\n",
              "    }\n",
              "\n",
              "    .dataframe tbody tr th {\n",
              "        vertical-align: top;\n",
              "    }\n",
              "\n",
              "    .dataframe thead th {\n",
              "        text-align: right;\n",
              "    }\n",
              "</style>\n",
              "<table border=\"1\" class=\"dataframe\">\n",
              "  <thead>\n",
              "    <tr style=\"text-align: right;\">\n",
              "      <th></th>\n",
              "      <th>user_id</th>\n",
              "      <th>isbn</th>\n",
              "      <th>book_rating</th>\n",
              "    </tr>\n",
              "  </thead>\n",
              "  <tbody>\n",
              "    <tr>\n",
              "      <th>1</th>\n",
              "      <td>276726</td>\n",
              "      <td>0155061224</td>\n",
              "      <td>5</td>\n",
              "    </tr>\n",
              "    <tr>\n",
              "      <th>3</th>\n",
              "      <td>276729</td>\n",
              "      <td>052165615X</td>\n",
              "      <td>3</td>\n",
              "    </tr>\n",
              "    <tr>\n",
              "      <th>4</th>\n",
              "      <td>276729</td>\n",
              "      <td>0521795028</td>\n",
              "      <td>6</td>\n",
              "    </tr>\n",
              "    <tr>\n",
              "      <th>8</th>\n",
              "      <td>276744</td>\n",
              "      <td>038550120X</td>\n",
              "      <td>7</td>\n",
              "    </tr>\n",
              "    <tr>\n",
              "      <th>16</th>\n",
              "      <td>276747</td>\n",
              "      <td>0060517794</td>\n",
              "      <td>9</td>\n",
              "    </tr>\n",
              "  </tbody>\n",
              "</table>\n",
              "</div>"
            ],
            "text/plain": [
              "    user_id        isbn  book_rating\n",
              "1    276726  0155061224            5\n",
              "3    276729  052165615X            3\n",
              "4    276729  0521795028            6\n",
              "8    276744  038550120X            7\n",
              "16   276747  0060517794            9"
            ]
          },
          "execution_count": 236,
          "metadata": {},
          "output_type": "execute_result"
        }
      ],
      "source": [
        "\n",
        "ratings_explicit.head()"
      ]
    },
    {
      "cell_type": "code",
      "execution_count": null,
      "id": "51f6d04b",
      "metadata": {
        "id": "51f6d04b",
        "outputId": "9fc2fd3a-2101-4bc5-e55f-564387ec8d0f"
      },
      "outputs": [
        {
          "name": "stdout",
          "output_type": "stream",
          "text": [
            "(1031136, 3)\n",
            "(383842, 3)\n"
          ]
        }
      ],
      "source": [
        "print(unique_ratings.shape)\n",
        "print(ratings_explicit.shape)"
      ]
    },
    {
      "cell_type": "code",
      "execution_count": null,
      "id": "820aacfd",
      "metadata": {
        "id": "820aacfd",
        "outputId": "1c88ecd4-9113-466b-daaf-378e9b8e530f"
      },
      "outputs": [
        {
          "data": {
            "text/html": [
              "<div>\n",
              "<style scoped>\n",
              "    .dataframe tbody tr th:only-of-type {\n",
              "        vertical-align: middle;\n",
              "    }\n",
              "\n",
              "    .dataframe tbody tr th {\n",
              "        vertical-align: top;\n",
              "    }\n",
              "\n",
              "    .dataframe thead th {\n",
              "        text-align: right;\n",
              "    }\n",
              "</style>\n",
              "<table border=\"1\" class=\"dataframe\">\n",
              "  <thead>\n",
              "    <tr style=\"text-align: right;\">\n",
              "      <th></th>\n",
              "      <th>isbn</th>\n",
              "      <th>book_title</th>\n",
              "      <th>book_author</th>\n",
              "      <th>year_of_publication</th>\n",
              "      <th>publisher</th>\n",
              "      <th>image_url_s</th>\n",
              "      <th>image_url_m</th>\n",
              "      <th>image_url_l</th>\n",
              "      <th>user_id</th>\n",
              "      <th>book_rating</th>\n",
              "    </tr>\n",
              "  </thead>\n",
              "  <tbody>\n",
              "    <tr>\n",
              "      <th>0</th>\n",
              "      <td>0002005018</td>\n",
              "      <td>Clara Callan</td>\n",
              "      <td>Richard Bruce Wright</td>\n",
              "      <td>2001</td>\n",
              "      <td>HarperFlamingo Canada</td>\n",
              "      <td>http://images.amazon.com/images/P/0002005018.0...</td>\n",
              "      <td>http://images.amazon.com/images/P/0002005018.0...</td>\n",
              "      <td>http://images.amazon.com/images/P/0002005018.0...</td>\n",
              "      <td>8</td>\n",
              "      <td>5</td>\n",
              "    </tr>\n",
              "    <tr>\n",
              "      <th>1</th>\n",
              "      <td>0002005018</td>\n",
              "      <td>Clara Callan</td>\n",
              "      <td>Richard Bruce Wright</td>\n",
              "      <td>2001</td>\n",
              "      <td>HarperFlamingo Canada</td>\n",
              "      <td>http://images.amazon.com/images/P/0002005018.0...</td>\n",
              "      <td>http://images.amazon.com/images/P/0002005018.0...</td>\n",
              "      <td>http://images.amazon.com/images/P/0002005018.0...</td>\n",
              "      <td>11676</td>\n",
              "      <td>8</td>\n",
              "    </tr>\n",
              "    <tr>\n",
              "      <th>2</th>\n",
              "      <td>0002005018</td>\n",
              "      <td>Clara Callan</td>\n",
              "      <td>Richard Bruce Wright</td>\n",
              "      <td>2001</td>\n",
              "      <td>HarperFlamingo Canada</td>\n",
              "      <td>http://images.amazon.com/images/P/0002005018.0...</td>\n",
              "      <td>http://images.amazon.com/images/P/0002005018.0...</td>\n",
              "      <td>http://images.amazon.com/images/P/0002005018.0...</td>\n",
              "      <td>67544</td>\n",
              "      <td>8</td>\n",
              "    </tr>\n",
              "    <tr>\n",
              "      <th>3</th>\n",
              "      <td>0002005018</td>\n",
              "      <td>Clara Callan</td>\n",
              "      <td>Richard Bruce Wright</td>\n",
              "      <td>2001</td>\n",
              "      <td>HarperFlamingo Canada</td>\n",
              "      <td>http://images.amazon.com/images/P/0002005018.0...</td>\n",
              "      <td>http://images.amazon.com/images/P/0002005018.0...</td>\n",
              "      <td>http://images.amazon.com/images/P/0002005018.0...</td>\n",
              "      <td>116866</td>\n",
              "      <td>9</td>\n",
              "    </tr>\n",
              "    <tr>\n",
              "      <th>4</th>\n",
              "      <td>0002005018</td>\n",
              "      <td>Clara Callan</td>\n",
              "      <td>Richard Bruce Wright</td>\n",
              "      <td>2001</td>\n",
              "      <td>HarperFlamingo Canada</td>\n",
              "      <td>http://images.amazon.com/images/P/0002005018.0...</td>\n",
              "      <td>http://images.amazon.com/images/P/0002005018.0...</td>\n",
              "      <td>http://images.amazon.com/images/P/0002005018.0...</td>\n",
              "      <td>123629</td>\n",
              "      <td>9</td>\n",
              "    </tr>\n",
              "  </tbody>\n",
              "</table>\n",
              "</div>"
            ],
            "text/plain": [
              "         isbn    book_title           book_author year_of_publication  \\\n",
              "0  0002005018  Clara Callan  Richard Bruce Wright                2001   \n",
              "1  0002005018  Clara Callan  Richard Bruce Wright                2001   \n",
              "2  0002005018  Clara Callan  Richard Bruce Wright                2001   \n",
              "3  0002005018  Clara Callan  Richard Bruce Wright                2001   \n",
              "4  0002005018  Clara Callan  Richard Bruce Wright                2001   \n",
              "\n",
              "               publisher                                        image_url_s  \\\n",
              "0  HarperFlamingo Canada  http://images.amazon.com/images/P/0002005018.0...   \n",
              "1  HarperFlamingo Canada  http://images.amazon.com/images/P/0002005018.0...   \n",
              "2  HarperFlamingo Canada  http://images.amazon.com/images/P/0002005018.0...   \n",
              "3  HarperFlamingo Canada  http://images.amazon.com/images/P/0002005018.0...   \n",
              "4  HarperFlamingo Canada  http://images.amazon.com/images/P/0002005018.0...   \n",
              "\n",
              "                                         image_url_m  \\\n",
              "0  http://images.amazon.com/images/P/0002005018.0...   \n",
              "1  http://images.amazon.com/images/P/0002005018.0...   \n",
              "2  http://images.amazon.com/images/P/0002005018.0...   \n",
              "3  http://images.amazon.com/images/P/0002005018.0...   \n",
              "4  http://images.amazon.com/images/P/0002005018.0...   \n",
              "\n",
              "                                         image_url_l  user_id  book_rating  \n",
              "0  http://images.amazon.com/images/P/0002005018.0...        8            5  \n",
              "1  http://images.amazon.com/images/P/0002005018.0...    11676            8  \n",
              "2  http://images.amazon.com/images/P/0002005018.0...    67544            8  \n",
              "3  http://images.amazon.com/images/P/0002005018.0...   116866            9  \n",
              "4  http://images.amazon.com/images/P/0002005018.0...   123629            9  "
            ]
          },
          "execution_count": 238,
          "metadata": {},
          "output_type": "execute_result"
        }
      ],
      "source": [
        "# Merging book_data dataset and ratings_explicit\n",
        "new_book_df= pd.merge(df_book, ratings_explicit, on='isbn')\n",
        "new_book_df.head()"
      ]
    },
    {
      "cell_type": "code",
      "execution_count": null,
      "id": "36d15376",
      "metadata": {
        "id": "36d15376",
        "outputId": "b188cf01-468b-470d-904a-f1ef3d1f7cfd"
      },
      "outputs": [
        {
          "name": "stdout",
          "output_type": "stream",
          "text": [
            "(383842, 10)\n"
          ]
        }
      ],
      "source": [
        "print(new_book_df.shape)"
      ]
    },
    {
      "cell_type": "code",
      "execution_count": null,
      "id": "5bdb3a9b",
      "metadata": {
        "id": "5bdb3a9b",
        "outputId": "8ef823ec-8e32-489f-f9ca-9fe0dd15ebf1"
      },
      "outputs": [
        {
          "data": {
            "text/plain": [
              "383842"
            ]
          },
          "execution_count": 240,
          "metadata": {},
          "output_type": "execute_result"
        }
      ],
      "source": [
        "new_book_df['book_title'].count()"
      ]
    },
    {
      "cell_type": "code",
      "execution_count": null,
      "id": "2463c377",
      "metadata": {
        "id": "2463c377",
        "outputId": "d84d1bac-339d-4f96-8862-eb80c02573e4"
      },
      "outputs": [
        {
          "data": {
            "text/plain": [
              "135567"
            ]
          },
          "execution_count": 241,
          "metadata": {},
          "output_type": "execute_result"
        }
      ],
      "source": [
        "new_book_df['book_title'].nunique()"
      ]
    },
    {
      "cell_type": "code",
      "execution_count": null,
      "id": "82d607ed",
      "metadata": {
        "id": "82d607ed",
        "outputId": "72a3bdb0-4e5e-43a8-a6e9-555f9af4a2d7"
      },
      "outputs": [
        {
          "name": "stdout",
          "output_type": "stream",
          "text": [
            "The top ten books as per ratings : \n"
          ]
        },
        {
          "data": {
            "text/html": [
              "<div>\n",
              "<style scoped>\n",
              "    .dataframe tbody tr th:only-of-type {\n",
              "        vertical-align: middle;\n",
              "    }\n",
              "\n",
              "    .dataframe tbody tr th {\n",
              "        vertical-align: top;\n",
              "    }\n",
              "\n",
              "    .dataframe thead th {\n",
              "        text-align: right;\n",
              "    }\n",
              "</style>\n",
              "<table border=\"1\" class=\"dataframe\">\n",
              "  <thead>\n",
              "    <tr style=\"text-align: right;\">\n",
              "      <th></th>\n",
              "      <th>book_rating</th>\n",
              "    </tr>\n",
              "    <tr>\n",
              "      <th>book_title</th>\n",
              "      <th></th>\n",
              "    </tr>\n",
              "  </thead>\n",
              "  <tbody>\n",
              "    <tr>\n",
              "      <th>The Lovely Bones: A Novel</th>\n",
              "      <td>707</td>\n",
              "    </tr>\n",
              "    <tr>\n",
              "      <th>Wild Animus</th>\n",
              "      <td>581</td>\n",
              "    </tr>\n",
              "    <tr>\n",
              "      <th>The Da Vinci Code</th>\n",
              "      <td>494</td>\n",
              "    </tr>\n",
              "    <tr>\n",
              "      <th>The Secret Life of Bees</th>\n",
              "      <td>406</td>\n",
              "    </tr>\n",
              "    <tr>\n",
              "      <th>The Nanny Diaries: A Novel</th>\n",
              "      <td>393</td>\n",
              "    </tr>\n",
              "    <tr>\n",
              "      <th>The Red Tent (Bestselling Backlist)</th>\n",
              "      <td>383</td>\n",
              "    </tr>\n",
              "    <tr>\n",
              "      <th>Bridget Jones's Diary</th>\n",
              "      <td>377</td>\n",
              "    </tr>\n",
              "    <tr>\n",
              "      <th>A Painted House</th>\n",
              "      <td>366</td>\n",
              "    </tr>\n",
              "    <tr>\n",
              "      <th>Life of Pi</th>\n",
              "      <td>336</td>\n",
              "    </tr>\n",
              "    <tr>\n",
              "      <th>Harry Potter and the Chamber of Secrets (Book 2)</th>\n",
              "      <td>326</td>\n",
              "    </tr>\n",
              "  </tbody>\n",
              "</table>\n",
              "</div>"
            ],
            "text/plain": [
              "                                                  book_rating\n",
              "book_title                                                   \n",
              "The Lovely Bones: A Novel                                 707\n",
              "Wild Animus                                               581\n",
              "The Da Vinci Code                                         494\n",
              "The Secret Life of Bees                                   406\n",
              "The Nanny Diaries: A Novel                                393\n",
              "The Red Tent (Bestselling Backlist)                       383\n",
              "Bridget Jones's Diary                                     377\n",
              "A Painted House                                           366\n",
              "Life of Pi                                                336\n",
              "Harry Potter and the Chamber of Secrets (Book 2)          326"
            ]
          },
          "execution_count": 242,
          "metadata": {},
          "output_type": "execute_result"
        }
      ],
      "source": [
        "# top ten books as per book ratings and recommendation\n",
        "top_ten_books= pd.DataFrame(new_book_df.groupby('book_title')['book_rating'].count()\n",
        "                         .sort_values(ascending=False).head(10))\n",
        "print('The top ten books as per ratings : ')\n",
        "top_ten_books"
      ]
    },
    {
      "cell_type": "markdown",
      "id": "146c310f",
      "metadata": {
        "id": "146c310f"
      },
      "source": [
        "# Popularity Based Recommonder System"
      ]
    },
    {
      "cell_type": "code",
      "execution_count": null,
      "id": "455a53d0",
      "metadata": {
        "id": "455a53d0"
      },
      "outputs": [],
      "source": [
        "ratings_with_name = df_rating.merge(df_book,on='isbn')"
      ]
    },
    {
      "cell_type": "code",
      "execution_count": null,
      "id": "77a19106",
      "metadata": {
        "id": "77a19106",
        "outputId": "848b82d7-2488-4403-daf9-80d02cdfa4d6"
      },
      "outputs": [
        {
          "data": {
            "text/html": [
              "<div>\n",
              "<style scoped>\n",
              "    .dataframe tbody tr th:only-of-type {\n",
              "        vertical-align: middle;\n",
              "    }\n",
              "\n",
              "    .dataframe tbody tr th {\n",
              "        vertical-align: top;\n",
              "    }\n",
              "\n",
              "    .dataframe thead th {\n",
              "        text-align: right;\n",
              "    }\n",
              "</style>\n",
              "<table border=\"1\" class=\"dataframe\">\n",
              "  <thead>\n",
              "    <tr style=\"text-align: right;\">\n",
              "      <th></th>\n",
              "      <th>book_title</th>\n",
              "      <th>num_ratings</th>\n",
              "    </tr>\n",
              "  </thead>\n",
              "  <tbody>\n",
              "    <tr>\n",
              "      <th>0</th>\n",
              "      <td>A Light in the Storm: The Civil War Diary of ...</td>\n",
              "      <td>4</td>\n",
              "    </tr>\n",
              "    <tr>\n",
              "      <th>1</th>\n",
              "      <td>Always Have Popsicles</td>\n",
              "      <td>1</td>\n",
              "    </tr>\n",
              "    <tr>\n",
              "      <th>2</th>\n",
              "      <td>Apple Magic (The Collector's series)</td>\n",
              "      <td>1</td>\n",
              "    </tr>\n",
              "    <tr>\n",
              "      <th>3</th>\n",
              "      <td>Ask Lily (Young Women of Faith: Lily Series, ...</td>\n",
              "      <td>1</td>\n",
              "    </tr>\n",
              "    <tr>\n",
              "      <th>4</th>\n",
              "      <td>Beyond IBM: Leadership Marketing and Finance ...</td>\n",
              "      <td>1</td>\n",
              "    </tr>\n",
              "    <tr>\n",
              "      <th>...</th>\n",
              "      <td>...</td>\n",
              "      <td>...</td>\n",
              "    </tr>\n",
              "    <tr>\n",
              "      <th>241066</th>\n",
              "      <td>Ã?Â?lpiraten.</td>\n",
              "      <td>2</td>\n",
              "    </tr>\n",
              "    <tr>\n",
              "      <th>241067</th>\n",
              "      <td>Ã?Â?rger mit Produkt X. Roman.</td>\n",
              "      <td>4</td>\n",
              "    </tr>\n",
              "    <tr>\n",
              "      <th>241068</th>\n",
              "      <td>Ã?Â?sterlich leben.</td>\n",
              "      <td>1</td>\n",
              "    </tr>\n",
              "    <tr>\n",
              "      <th>241069</th>\n",
              "      <td>Ã?Â?stlich der Berge.</td>\n",
              "      <td>3</td>\n",
              "    </tr>\n",
              "    <tr>\n",
              "      <th>241070</th>\n",
              "      <td>Ã?Â?thique en toc</td>\n",
              "      <td>2</td>\n",
              "    </tr>\n",
              "  </tbody>\n",
              "</table>\n",
              "<p>241071 rows × 2 columns</p>\n",
              "</div>"
            ],
            "text/plain": [
              "                                               book_title  num_ratings\n",
              "0        A Light in the Storm: The Civil War Diary of ...            4\n",
              "1                                   Always Have Popsicles            1\n",
              "2                    Apple Magic (The Collector's series)            1\n",
              "3        Ask Lily (Young Women of Faith: Lily Series, ...            1\n",
              "4        Beyond IBM: Leadership Marketing and Finance ...            1\n",
              "...                                                   ...          ...\n",
              "241066                                      Ã?Â?lpiraten.            2\n",
              "241067                     Ã?Â?rger mit Produkt X. Roman.            4\n",
              "241068                                Ã?Â?sterlich leben.            1\n",
              "241069                              Ã?Â?stlich der Berge.            3\n",
              "241070                                  Ã?Â?thique en toc            2\n",
              "\n",
              "[241071 rows x 2 columns]"
            ]
          },
          "execution_count": 244,
          "metadata": {},
          "output_type": "execute_result"
        }
      ],
      "source": [
        "num_rating_df = ratings_with_name.groupby('book_title').count()['book_rating'].reset_index()\n",
        "num_rating_df.rename(columns={'book_rating':'num_ratings'},inplace=True)\n",
        "num_rating_df\n"
      ]
    },
    {
      "cell_type": "code",
      "execution_count": null,
      "id": "aff30e1c",
      "metadata": {
        "id": "aff30e1c",
        "outputId": "894ba567-8dcb-4e97-af13-36c768f19505"
      },
      "outputs": [
        {
          "data": {
            "text/html": [
              "<div>\n",
              "<style scoped>\n",
              "    .dataframe tbody tr th:only-of-type {\n",
              "        vertical-align: middle;\n",
              "    }\n",
              "\n",
              "    .dataframe tbody tr th {\n",
              "        vertical-align: top;\n",
              "    }\n",
              "\n",
              "    .dataframe thead th {\n",
              "        text-align: right;\n",
              "    }\n",
              "</style>\n",
              "<table border=\"1\" class=\"dataframe\">\n",
              "  <thead>\n",
              "    <tr style=\"text-align: right;\">\n",
              "      <th></th>\n",
              "      <th>book_title</th>\n",
              "      <th>avg_rating</th>\n",
              "    </tr>\n",
              "  </thead>\n",
              "  <tbody>\n",
              "    <tr>\n",
              "      <th>0</th>\n",
              "      <td>A Light in the Storm: The Civil War Diary of ...</td>\n",
              "      <td>2.250000</td>\n",
              "    </tr>\n",
              "    <tr>\n",
              "      <th>1</th>\n",
              "      <td>Always Have Popsicles</td>\n",
              "      <td>0.000000</td>\n",
              "    </tr>\n",
              "    <tr>\n",
              "      <th>2</th>\n",
              "      <td>Apple Magic (The Collector's series)</td>\n",
              "      <td>0.000000</td>\n",
              "    </tr>\n",
              "    <tr>\n",
              "      <th>3</th>\n",
              "      <td>Ask Lily (Young Women of Faith: Lily Series, ...</td>\n",
              "      <td>8.000000</td>\n",
              "    </tr>\n",
              "    <tr>\n",
              "      <th>4</th>\n",
              "      <td>Beyond IBM: Leadership Marketing and Finance ...</td>\n",
              "      <td>0.000000</td>\n",
              "    </tr>\n",
              "    <tr>\n",
              "      <th>...</th>\n",
              "      <td>...</td>\n",
              "      <td>...</td>\n",
              "    </tr>\n",
              "    <tr>\n",
              "      <th>241066</th>\n",
              "      <td>Ã?Â?lpiraten.</td>\n",
              "      <td>0.000000</td>\n",
              "    </tr>\n",
              "    <tr>\n",
              "      <th>241067</th>\n",
              "      <td>Ã?Â?rger mit Produkt X. Roman.</td>\n",
              "      <td>5.250000</td>\n",
              "    </tr>\n",
              "    <tr>\n",
              "      <th>241068</th>\n",
              "      <td>Ã?Â?sterlich leben.</td>\n",
              "      <td>7.000000</td>\n",
              "    </tr>\n",
              "    <tr>\n",
              "      <th>241069</th>\n",
              "      <td>Ã?Â?stlich der Berge.</td>\n",
              "      <td>2.666667</td>\n",
              "    </tr>\n",
              "    <tr>\n",
              "      <th>241070</th>\n",
              "      <td>Ã?Â?thique en toc</td>\n",
              "      <td>4.000000</td>\n",
              "    </tr>\n",
              "  </tbody>\n",
              "</table>\n",
              "<p>241071 rows × 2 columns</p>\n",
              "</div>"
            ],
            "text/plain": [
              "                                               book_title  avg_rating\n",
              "0        A Light in the Storm: The Civil War Diary of ...    2.250000\n",
              "1                                   Always Have Popsicles    0.000000\n",
              "2                    Apple Magic (The Collector's series)    0.000000\n",
              "3        Ask Lily (Young Women of Faith: Lily Series, ...    8.000000\n",
              "4        Beyond IBM: Leadership Marketing and Finance ...    0.000000\n",
              "...                                                   ...         ...\n",
              "241066                                      Ã?Â?lpiraten.    0.000000\n",
              "241067                     Ã?Â?rger mit Produkt X. Roman.    5.250000\n",
              "241068                                Ã?Â?sterlich leben.    7.000000\n",
              "241069                              Ã?Â?stlich der Berge.    2.666667\n",
              "241070                                  Ã?Â?thique en toc    4.000000\n",
              "\n",
              "[241071 rows x 2 columns]"
            ]
          },
          "execution_count": 245,
          "metadata": {},
          "output_type": "execute_result"
        }
      ],
      "source": [
        "avg_rating_df = ratings_with_name.groupby('book_title').mean()['book_rating'].reset_index()\n",
        "avg_rating_df.rename(columns={'book_rating':'avg_rating'},inplace=True)\n",
        "avg_rating_df"
      ]
    },
    {
      "cell_type": "code",
      "execution_count": null,
      "id": "b8b0790b",
      "metadata": {
        "id": "b8b0790b",
        "outputId": "16d5487c-ea10-4baa-972b-97d43cdc7fce"
      },
      "outputs": [
        {
          "data": {
            "text/html": [
              "<div>\n",
              "<style scoped>\n",
              "    .dataframe tbody tr th:only-of-type {\n",
              "        vertical-align: middle;\n",
              "    }\n",
              "\n",
              "    .dataframe tbody tr th {\n",
              "        vertical-align: top;\n",
              "    }\n",
              "\n",
              "    .dataframe thead th {\n",
              "        text-align: right;\n",
              "    }\n",
              "</style>\n",
              "<table border=\"1\" class=\"dataframe\">\n",
              "  <thead>\n",
              "    <tr style=\"text-align: right;\">\n",
              "      <th></th>\n",
              "      <th>book_title</th>\n",
              "      <th>num_ratings</th>\n",
              "      <th>avg_rating</th>\n",
              "    </tr>\n",
              "  </thead>\n",
              "  <tbody>\n",
              "    <tr>\n",
              "      <th>0</th>\n",
              "      <td>A Light in the Storm: The Civil War Diary of ...</td>\n",
              "      <td>4</td>\n",
              "      <td>2.250000</td>\n",
              "    </tr>\n",
              "    <tr>\n",
              "      <th>1</th>\n",
              "      <td>Always Have Popsicles</td>\n",
              "      <td>1</td>\n",
              "      <td>0.000000</td>\n",
              "    </tr>\n",
              "    <tr>\n",
              "      <th>2</th>\n",
              "      <td>Apple Magic (The Collector's series)</td>\n",
              "      <td>1</td>\n",
              "      <td>0.000000</td>\n",
              "    </tr>\n",
              "    <tr>\n",
              "      <th>3</th>\n",
              "      <td>Ask Lily (Young Women of Faith: Lily Series, ...</td>\n",
              "      <td>1</td>\n",
              "      <td>8.000000</td>\n",
              "    </tr>\n",
              "    <tr>\n",
              "      <th>4</th>\n",
              "      <td>Beyond IBM: Leadership Marketing and Finance ...</td>\n",
              "      <td>1</td>\n",
              "      <td>0.000000</td>\n",
              "    </tr>\n",
              "    <tr>\n",
              "      <th>...</th>\n",
              "      <td>...</td>\n",
              "      <td>...</td>\n",
              "      <td>...</td>\n",
              "    </tr>\n",
              "    <tr>\n",
              "      <th>241066</th>\n",
              "      <td>Ã?Â?lpiraten.</td>\n",
              "      <td>2</td>\n",
              "      <td>0.000000</td>\n",
              "    </tr>\n",
              "    <tr>\n",
              "      <th>241067</th>\n",
              "      <td>Ã?Â?rger mit Produkt X. Roman.</td>\n",
              "      <td>4</td>\n",
              "      <td>5.250000</td>\n",
              "    </tr>\n",
              "    <tr>\n",
              "      <th>241068</th>\n",
              "      <td>Ã?Â?sterlich leben.</td>\n",
              "      <td>1</td>\n",
              "      <td>7.000000</td>\n",
              "    </tr>\n",
              "    <tr>\n",
              "      <th>241069</th>\n",
              "      <td>Ã?Â?stlich der Berge.</td>\n",
              "      <td>3</td>\n",
              "      <td>2.666667</td>\n",
              "    </tr>\n",
              "    <tr>\n",
              "      <th>241070</th>\n",
              "      <td>Ã?Â?thique en toc</td>\n",
              "      <td>2</td>\n",
              "      <td>4.000000</td>\n",
              "    </tr>\n",
              "  </tbody>\n",
              "</table>\n",
              "<p>241071 rows × 3 columns</p>\n",
              "</div>"
            ],
            "text/plain": [
              "                                               book_title  num_ratings  \\\n",
              "0        A Light in the Storm: The Civil War Diary of ...            4   \n",
              "1                                   Always Have Popsicles            1   \n",
              "2                    Apple Magic (The Collector's series)            1   \n",
              "3        Ask Lily (Young Women of Faith: Lily Series, ...            1   \n",
              "4        Beyond IBM: Leadership Marketing and Finance ...            1   \n",
              "...                                                   ...          ...   \n",
              "241066                                      Ã?Â?lpiraten.            2   \n",
              "241067                     Ã?Â?rger mit Produkt X. Roman.            4   \n",
              "241068                                Ã?Â?sterlich leben.            1   \n",
              "241069                              Ã?Â?stlich der Berge.            3   \n",
              "241070                                  Ã?Â?thique en toc            2   \n",
              "\n",
              "        avg_rating  \n",
              "0         2.250000  \n",
              "1         0.000000  \n",
              "2         0.000000  \n",
              "3         8.000000  \n",
              "4         0.000000  \n",
              "...            ...  \n",
              "241066    0.000000  \n",
              "241067    5.250000  \n",
              "241068    7.000000  \n",
              "241069    2.666667  \n",
              "241070    4.000000  \n",
              "\n",
              "[241071 rows x 3 columns]"
            ]
          },
          "execution_count": 246,
          "metadata": {},
          "output_type": "execute_result"
        }
      ],
      "source": [
        "popular_df = num_rating_df.merge(avg_rating_df,on='book_title')\n",
        "popular_df"
      ]
    },
    {
      "cell_type": "code",
      "execution_count": null,
      "id": "0a18e6f9",
      "metadata": {
        "id": "0a18e6f9"
      },
      "outputs": [],
      "source": [
        "popular_df = popular_df[popular_df['num_ratings']>=250].sort_values('avg_rating',ascending=False).head(50)\n"
      ]
    },
    {
      "cell_type": "code",
      "execution_count": null,
      "id": "5796d3e8",
      "metadata": {
        "id": "5796d3e8",
        "outputId": "145ad9ea-082a-4047-ffe5-497e0cbede05"
      },
      "outputs": [
        {
          "data": {
            "text/html": [
              "<div>\n",
              "<style scoped>\n",
              "    .dataframe tbody tr th:only-of-type {\n",
              "        vertical-align: middle;\n",
              "    }\n",
              "\n",
              "    .dataframe tbody tr th {\n",
              "        vertical-align: top;\n",
              "    }\n",
              "\n",
              "    .dataframe thead th {\n",
              "        text-align: right;\n",
              "    }\n",
              "</style>\n",
              "<table border=\"1\" class=\"dataframe\">\n",
              "  <thead>\n",
              "    <tr style=\"text-align: right;\">\n",
              "      <th></th>\n",
              "      <th>isbn</th>\n",
              "      <th>book_title</th>\n",
              "      <th>book_author</th>\n",
              "      <th>year_of_publication</th>\n",
              "      <th>publisher</th>\n",
              "      <th>image_url_s</th>\n",
              "      <th>image_url_m</th>\n",
              "      <th>image_url_l</th>\n",
              "    </tr>\n",
              "  </thead>\n",
              "  <tbody>\n",
              "    <tr>\n",
              "      <th>0</th>\n",
              "      <td>0195153448</td>\n",
              "      <td>Classical Mythology</td>\n",
              "      <td>Mark P. O. Morford</td>\n",
              "      <td>2002</td>\n",
              "      <td>Oxford University Press</td>\n",
              "      <td>http://images.amazon.com/images/P/0195153448.0...</td>\n",
              "      <td>http://images.amazon.com/images/P/0195153448.0...</td>\n",
              "      <td>http://images.amazon.com/images/P/0195153448.0...</td>\n",
              "    </tr>\n",
              "    <tr>\n",
              "      <th>1</th>\n",
              "      <td>0002005018</td>\n",
              "      <td>Clara Callan</td>\n",
              "      <td>Richard Bruce Wright</td>\n",
              "      <td>2001</td>\n",
              "      <td>HarperFlamingo Canada</td>\n",
              "      <td>http://images.amazon.com/images/P/0002005018.0...</td>\n",
              "      <td>http://images.amazon.com/images/P/0002005018.0...</td>\n",
              "      <td>http://images.amazon.com/images/P/0002005018.0...</td>\n",
              "    </tr>\n",
              "    <tr>\n",
              "      <th>2</th>\n",
              "      <td>0060973129</td>\n",
              "      <td>Decision in Normandy</td>\n",
              "      <td>Carlo D'Este</td>\n",
              "      <td>1991</td>\n",
              "      <td>HarperPerennial</td>\n",
              "      <td>http://images.amazon.com/images/P/0060973129.0...</td>\n",
              "      <td>http://images.amazon.com/images/P/0060973129.0...</td>\n",
              "      <td>http://images.amazon.com/images/P/0060973129.0...</td>\n",
              "    </tr>\n",
              "    <tr>\n",
              "      <th>3</th>\n",
              "      <td>0374157065</td>\n",
              "      <td>Flu: The Story of the Great Influenza Pandemic...</td>\n",
              "      <td>Gina Bari Kolata</td>\n",
              "      <td>1999</td>\n",
              "      <td>Farrar Straus Giroux</td>\n",
              "      <td>http://images.amazon.com/images/P/0374157065.0...</td>\n",
              "      <td>http://images.amazon.com/images/P/0374157065.0...</td>\n",
              "      <td>http://images.amazon.com/images/P/0374157065.0...</td>\n",
              "    </tr>\n",
              "    <tr>\n",
              "      <th>4</th>\n",
              "      <td>0393045218</td>\n",
              "      <td>The Mummies of Urumchi</td>\n",
              "      <td>E. J. W. Barber</td>\n",
              "      <td>1999</td>\n",
              "      <td>W. W. Norton &amp;amp; Company</td>\n",
              "      <td>http://images.amazon.com/images/P/0393045218.0...</td>\n",
              "      <td>http://images.amazon.com/images/P/0393045218.0...</td>\n",
              "      <td>http://images.amazon.com/images/P/0393045218.0...</td>\n",
              "    </tr>\n",
              "    <tr>\n",
              "      <th>...</th>\n",
              "      <td>...</td>\n",
              "      <td>...</td>\n",
              "      <td>...</td>\n",
              "      <td>...</td>\n",
              "      <td>...</td>\n",
              "      <td>...</td>\n",
              "      <td>...</td>\n",
              "      <td>...</td>\n",
              "    </tr>\n",
              "    <tr>\n",
              "      <th>271355</th>\n",
              "      <td>0440400988</td>\n",
              "      <td>There's a Bat in Bunk Five</td>\n",
              "      <td>Paula Danziger</td>\n",
              "      <td>1988</td>\n",
              "      <td>Random House Childrens Pub (Mm)</td>\n",
              "      <td>http://images.amazon.com/images/P/0440400988.0...</td>\n",
              "      <td>http://images.amazon.com/images/P/0440400988.0...</td>\n",
              "      <td>http://images.amazon.com/images/P/0440400988.0...</td>\n",
              "    </tr>\n",
              "    <tr>\n",
              "      <th>271356</th>\n",
              "      <td>0525447644</td>\n",
              "      <td>From One to One Hundred</td>\n",
              "      <td>Teri Sloat</td>\n",
              "      <td>1991</td>\n",
              "      <td>Dutton Books</td>\n",
              "      <td>http://images.amazon.com/images/P/0525447644.0...</td>\n",
              "      <td>http://images.amazon.com/images/P/0525447644.0...</td>\n",
              "      <td>http://images.amazon.com/images/P/0525447644.0...</td>\n",
              "    </tr>\n",
              "    <tr>\n",
              "      <th>271357</th>\n",
              "      <td>006008667X</td>\n",
              "      <td>Lily Dale : The True Story of the Town that Ta...</td>\n",
              "      <td>Christine Wicker</td>\n",
              "      <td>2004</td>\n",
              "      <td>HarperSanFrancisco</td>\n",
              "      <td>http://images.amazon.com/images/P/006008667X.0...</td>\n",
              "      <td>http://images.amazon.com/images/P/006008667X.0...</td>\n",
              "      <td>http://images.amazon.com/images/P/006008667X.0...</td>\n",
              "    </tr>\n",
              "    <tr>\n",
              "      <th>271358</th>\n",
              "      <td>0192126040</td>\n",
              "      <td>Republic (World's Classics)</td>\n",
              "      <td>Plato</td>\n",
              "      <td>1996</td>\n",
              "      <td>Oxford University Press</td>\n",
              "      <td>http://images.amazon.com/images/P/0192126040.0...</td>\n",
              "      <td>http://images.amazon.com/images/P/0192126040.0...</td>\n",
              "      <td>http://images.amazon.com/images/P/0192126040.0...</td>\n",
              "    </tr>\n",
              "    <tr>\n",
              "      <th>271359</th>\n",
              "      <td>0767409752</td>\n",
              "      <td>A Guided Tour of Rene Descartes' Meditations o...</td>\n",
              "      <td>Christopher  Biffle</td>\n",
              "      <td>2000</td>\n",
              "      <td>McGraw-Hill Humanities/Social Sciences/Languages</td>\n",
              "      <td>http://images.amazon.com/images/P/0767409752.0...</td>\n",
              "      <td>http://images.amazon.com/images/P/0767409752.0...</td>\n",
              "      <td>http://images.amazon.com/images/P/0767409752.0...</td>\n",
              "    </tr>\n",
              "  </tbody>\n",
              "</table>\n",
              "<p>271360 rows × 8 columns</p>\n",
              "</div>"
            ],
            "text/plain": [
              "              isbn                                         book_title  \\\n",
              "0       0195153448                                Classical Mythology   \n",
              "1       0002005018                                       Clara Callan   \n",
              "2       0060973129                               Decision in Normandy   \n",
              "3       0374157065  Flu: The Story of the Great Influenza Pandemic...   \n",
              "4       0393045218                             The Mummies of Urumchi   \n",
              "...            ...                                                ...   \n",
              "271355  0440400988                         There's a Bat in Bunk Five   \n",
              "271356  0525447644                            From One to One Hundred   \n",
              "271357  006008667X  Lily Dale : The True Story of the Town that Ta...   \n",
              "271358  0192126040                        Republic (World's Classics)   \n",
              "271359  0767409752  A Guided Tour of Rene Descartes' Meditations o...   \n",
              "\n",
              "                 book_author year_of_publication  \\\n",
              "0         Mark P. O. Morford                2002   \n",
              "1       Richard Bruce Wright                2001   \n",
              "2               Carlo D'Este                1991   \n",
              "3           Gina Bari Kolata                1999   \n",
              "4            E. J. W. Barber                1999   \n",
              "...                      ...                 ...   \n",
              "271355        Paula Danziger                1988   \n",
              "271356            Teri Sloat                1991   \n",
              "271357      Christine Wicker                2004   \n",
              "271358                 Plato                1996   \n",
              "271359   Christopher  Biffle                2000   \n",
              "\n",
              "                                               publisher  \\\n",
              "0                                Oxford University Press   \n",
              "1                                  HarperFlamingo Canada   \n",
              "2                                        HarperPerennial   \n",
              "3                                   Farrar Straus Giroux   \n",
              "4                             W. W. Norton &amp; Company   \n",
              "...                                                  ...   \n",
              "271355                   Random House Childrens Pub (Mm)   \n",
              "271356                                      Dutton Books   \n",
              "271357                                HarperSanFrancisco   \n",
              "271358                           Oxford University Press   \n",
              "271359  McGraw-Hill Humanities/Social Sciences/Languages   \n",
              "\n",
              "                                              image_url_s  \\\n",
              "0       http://images.amazon.com/images/P/0195153448.0...   \n",
              "1       http://images.amazon.com/images/P/0002005018.0...   \n",
              "2       http://images.amazon.com/images/P/0060973129.0...   \n",
              "3       http://images.amazon.com/images/P/0374157065.0...   \n",
              "4       http://images.amazon.com/images/P/0393045218.0...   \n",
              "...                                                   ...   \n",
              "271355  http://images.amazon.com/images/P/0440400988.0...   \n",
              "271356  http://images.amazon.com/images/P/0525447644.0...   \n",
              "271357  http://images.amazon.com/images/P/006008667X.0...   \n",
              "271358  http://images.amazon.com/images/P/0192126040.0...   \n",
              "271359  http://images.amazon.com/images/P/0767409752.0...   \n",
              "\n",
              "                                              image_url_m  \\\n",
              "0       http://images.amazon.com/images/P/0195153448.0...   \n",
              "1       http://images.amazon.com/images/P/0002005018.0...   \n",
              "2       http://images.amazon.com/images/P/0060973129.0...   \n",
              "3       http://images.amazon.com/images/P/0374157065.0...   \n",
              "4       http://images.amazon.com/images/P/0393045218.0...   \n",
              "...                                                   ...   \n",
              "271355  http://images.amazon.com/images/P/0440400988.0...   \n",
              "271356  http://images.amazon.com/images/P/0525447644.0...   \n",
              "271357  http://images.amazon.com/images/P/006008667X.0...   \n",
              "271358  http://images.amazon.com/images/P/0192126040.0...   \n",
              "271359  http://images.amazon.com/images/P/0767409752.0...   \n",
              "\n",
              "                                              image_url_l  \n",
              "0       http://images.amazon.com/images/P/0195153448.0...  \n",
              "1       http://images.amazon.com/images/P/0002005018.0...  \n",
              "2       http://images.amazon.com/images/P/0060973129.0...  \n",
              "3       http://images.amazon.com/images/P/0374157065.0...  \n",
              "4       http://images.amazon.com/images/P/0393045218.0...  \n",
              "...                                                   ...  \n",
              "271355  http://images.amazon.com/images/P/0440400988.0...  \n",
              "271356  http://images.amazon.com/images/P/0525447644.0...  \n",
              "271357  http://images.amazon.com/images/P/006008667X.0...  \n",
              "271358  http://images.amazon.com/images/P/0192126040.0...  \n",
              "271359  http://images.amazon.com/images/P/0767409752.0...  \n",
              "\n",
              "[271360 rows x 8 columns]"
            ]
          },
          "execution_count": 248,
          "metadata": {},
          "output_type": "execute_result"
        }
      ],
      "source": [
        "df_book"
      ]
    },
    {
      "cell_type": "code",
      "execution_count": null,
      "id": "7454742c",
      "metadata": {
        "id": "7454742c"
      },
      "outputs": [],
      "source": [
        "popular_df = popular_df.merge(df_book,on='book_title').drop_duplicates('book_title')[['book_title','book_author','image_url_m','num_ratings','avg_rating']]\n"
      ]
    },
    {
      "cell_type": "code",
      "execution_count": null,
      "id": "68c6f090",
      "metadata": {
        "id": "68c6f090",
        "outputId": "a6faf890-fb4f-4e40-8cf7-12f665e8079f"
      },
      "outputs": [
        {
          "data": {
            "text/plain": [
              "'http://images.amazon.com/images/P/0439136350.01.MZZZZZZZ.jpg'"
            ]
          },
          "execution_count": 250,
          "metadata": {},
          "output_type": "execute_result"
        }
      ],
      "source": [
        "popular_df['image_url_m'][0]"
      ]
    },
    {
      "cell_type": "markdown",
      "id": "6f1b1a0d",
      "metadata": {
        "id": "6f1b1a0d"
      },
      "source": [
        "# Collaborative Filtering Based Recommender System\n"
      ]
    },
    {
      "cell_type": "code",
      "execution_count": null,
      "id": "2221341a",
      "metadata": {
        "id": "2221341a"
      },
      "outputs": [],
      "source": [
        "x = ratings_with_name.groupby('user_id').count()['book_rating'] > 200\n",
        "padhe_likhe_users = x[x].index"
      ]
    },
    {
      "cell_type": "code",
      "execution_count": null,
      "id": "43a7298e",
      "metadata": {
        "id": "43a7298e"
      },
      "outputs": [],
      "source": [
        "filtered_rating = ratings_with_name[ratings_with_name['user_id'].isin(padhe_likhe_users)]\n"
      ]
    },
    {
      "cell_type": "code",
      "execution_count": null,
      "id": "32418184",
      "metadata": {
        "id": "32418184"
      },
      "outputs": [],
      "source": [
        "y = filtered_rating.groupby('book_title').count()['book_rating']>=50\n",
        "famous_books = y[y].index"
      ]
    },
    {
      "cell_type": "code",
      "execution_count": null,
      "id": "c850e602",
      "metadata": {
        "id": "c850e602"
      },
      "outputs": [],
      "source": [
        "final_ratings = filtered_rating[filtered_rating['book_title'].isin(famous_books)]\n"
      ]
    },
    {
      "cell_type": "code",
      "execution_count": null,
      "id": "bb708340",
      "metadata": {
        "id": "bb708340"
      },
      "outputs": [],
      "source": [
        "pt = final_ratings.pivot_table(index='book_title',columns='user_id',values='book_rating')\n"
      ]
    },
    {
      "cell_type": "code",
      "execution_count": null,
      "id": "7fd44379",
      "metadata": {
        "id": "7fd44379"
      },
      "outputs": [],
      "source": [
        "pt.fillna(0,inplace=True)"
      ]
    },
    {
      "cell_type": "code",
      "execution_count": null,
      "id": "abbe887f",
      "metadata": {
        "id": "abbe887f",
        "outputId": "646eb774-2d2f-451c-ae5b-484ae73514b2"
      },
      "outputs": [
        {
          "data": {
            "text/html": [
              "<div>\n",
              "<style scoped>\n",
              "    .dataframe tbody tr th:only-of-type {\n",
              "        vertical-align: middle;\n",
              "    }\n",
              "\n",
              "    .dataframe tbody tr th {\n",
              "        vertical-align: top;\n",
              "    }\n",
              "\n",
              "    .dataframe thead th {\n",
              "        text-align: right;\n",
              "    }\n",
              "</style>\n",
              "<table border=\"1\" class=\"dataframe\">\n",
              "  <thead>\n",
              "    <tr style=\"text-align: right;\">\n",
              "      <th>user_id</th>\n",
              "      <th>254</th>\n",
              "      <th>2276</th>\n",
              "      <th>2766</th>\n",
              "      <th>2977</th>\n",
              "      <th>3363</th>\n",
              "      <th>4017</th>\n",
              "      <th>4385</th>\n",
              "      <th>6251</th>\n",
              "      <th>6323</th>\n",
              "      <th>6543</th>\n",
              "      <th>...</th>\n",
              "      <th>271705</th>\n",
              "      <th>273979</th>\n",
              "      <th>274004</th>\n",
              "      <th>274061</th>\n",
              "      <th>274301</th>\n",
              "      <th>274308</th>\n",
              "      <th>275970</th>\n",
              "      <th>277427</th>\n",
              "      <th>277639</th>\n",
              "      <th>278418</th>\n",
              "    </tr>\n",
              "    <tr>\n",
              "      <th>book_title</th>\n",
              "      <th></th>\n",
              "      <th></th>\n",
              "      <th></th>\n",
              "      <th></th>\n",
              "      <th></th>\n",
              "      <th></th>\n",
              "      <th></th>\n",
              "      <th></th>\n",
              "      <th></th>\n",
              "      <th></th>\n",
              "      <th></th>\n",
              "      <th></th>\n",
              "      <th></th>\n",
              "      <th></th>\n",
              "      <th></th>\n",
              "      <th></th>\n",
              "      <th></th>\n",
              "      <th></th>\n",
              "      <th></th>\n",
              "      <th></th>\n",
              "      <th></th>\n",
              "    </tr>\n",
              "  </thead>\n",
              "  <tbody>\n",
              "    <tr>\n",
              "      <th>1984</th>\n",
              "      <td>9.0</td>\n",
              "      <td>0.0</td>\n",
              "      <td>0.0</td>\n",
              "      <td>0.0</td>\n",
              "      <td>0.0</td>\n",
              "      <td>0.0</td>\n",
              "      <td>0.0</td>\n",
              "      <td>0.0</td>\n",
              "      <td>0.0</td>\n",
              "      <td>0.0</td>\n",
              "      <td>...</td>\n",
              "      <td>10.0</td>\n",
              "      <td>0.0</td>\n",
              "      <td>0.0</td>\n",
              "      <td>0.0</td>\n",
              "      <td>0.0</td>\n",
              "      <td>0.0</td>\n",
              "      <td>0.0</td>\n",
              "      <td>0.0</td>\n",
              "      <td>0.0</td>\n",
              "      <td>0.0</td>\n",
              "    </tr>\n",
              "    <tr>\n",
              "      <th>1st to Die: A Novel</th>\n",
              "      <td>0.0</td>\n",
              "      <td>0.0</td>\n",
              "      <td>0.0</td>\n",
              "      <td>0.0</td>\n",
              "      <td>0.0</td>\n",
              "      <td>0.0</td>\n",
              "      <td>0.0</td>\n",
              "      <td>0.0</td>\n",
              "      <td>0.0</td>\n",
              "      <td>9.0</td>\n",
              "      <td>...</td>\n",
              "      <td>0.0</td>\n",
              "      <td>0.0</td>\n",
              "      <td>0.0</td>\n",
              "      <td>0.0</td>\n",
              "      <td>0.0</td>\n",
              "      <td>0.0</td>\n",
              "      <td>0.0</td>\n",
              "      <td>0.0</td>\n",
              "      <td>0.0</td>\n",
              "      <td>0.0</td>\n",
              "    </tr>\n",
              "    <tr>\n",
              "      <th>2nd Chance</th>\n",
              "      <td>0.0</td>\n",
              "      <td>10.0</td>\n",
              "      <td>0.0</td>\n",
              "      <td>0.0</td>\n",
              "      <td>0.0</td>\n",
              "      <td>0.0</td>\n",
              "      <td>0.0</td>\n",
              "      <td>0.0</td>\n",
              "      <td>0.0</td>\n",
              "      <td>0.0</td>\n",
              "      <td>...</td>\n",
              "      <td>0.0</td>\n",
              "      <td>0.0</td>\n",
              "      <td>0.0</td>\n",
              "      <td>0.0</td>\n",
              "      <td>0.0</td>\n",
              "      <td>0.0</td>\n",
              "      <td>0.0</td>\n",
              "      <td>0.0</td>\n",
              "      <td>0.0</td>\n",
              "      <td>0.0</td>\n",
              "    </tr>\n",
              "    <tr>\n",
              "      <th>4 Blondes</th>\n",
              "      <td>0.0</td>\n",
              "      <td>0.0</td>\n",
              "      <td>0.0</td>\n",
              "      <td>0.0</td>\n",
              "      <td>0.0</td>\n",
              "      <td>0.0</td>\n",
              "      <td>0.0</td>\n",
              "      <td>0.0</td>\n",
              "      <td>0.0</td>\n",
              "      <td>0.0</td>\n",
              "      <td>...</td>\n",
              "      <td>0.0</td>\n",
              "      <td>0.0</td>\n",
              "      <td>0.0</td>\n",
              "      <td>0.0</td>\n",
              "      <td>0.0</td>\n",
              "      <td>0.0</td>\n",
              "      <td>0.0</td>\n",
              "      <td>0.0</td>\n",
              "      <td>0.0</td>\n",
              "      <td>0.0</td>\n",
              "    </tr>\n",
              "    <tr>\n",
              "      <th>A Bend in the Road</th>\n",
              "      <td>0.0</td>\n",
              "      <td>0.0</td>\n",
              "      <td>7.0</td>\n",
              "      <td>0.0</td>\n",
              "      <td>0.0</td>\n",
              "      <td>0.0</td>\n",
              "      <td>0.0</td>\n",
              "      <td>0.0</td>\n",
              "      <td>0.0</td>\n",
              "      <td>0.0</td>\n",
              "      <td>...</td>\n",
              "      <td>0.0</td>\n",
              "      <td>0.0</td>\n",
              "      <td>0.0</td>\n",
              "      <td>0.0</td>\n",
              "      <td>0.0</td>\n",
              "      <td>0.0</td>\n",
              "      <td>0.0</td>\n",
              "      <td>0.0</td>\n",
              "      <td>0.0</td>\n",
              "      <td>0.0</td>\n",
              "    </tr>\n",
              "    <tr>\n",
              "      <th>...</th>\n",
              "      <td>...</td>\n",
              "      <td>...</td>\n",
              "      <td>...</td>\n",
              "      <td>...</td>\n",
              "      <td>...</td>\n",
              "      <td>...</td>\n",
              "      <td>...</td>\n",
              "      <td>...</td>\n",
              "      <td>...</td>\n",
              "      <td>...</td>\n",
              "      <td>...</td>\n",
              "      <td>...</td>\n",
              "      <td>...</td>\n",
              "      <td>...</td>\n",
              "      <td>...</td>\n",
              "      <td>...</td>\n",
              "      <td>...</td>\n",
              "      <td>...</td>\n",
              "      <td>...</td>\n",
              "      <td>...</td>\n",
              "      <td>...</td>\n",
              "    </tr>\n",
              "    <tr>\n",
              "      <th>Year of Wonders</th>\n",
              "      <td>0.0</td>\n",
              "      <td>0.0</td>\n",
              "      <td>0.0</td>\n",
              "      <td>7.0</td>\n",
              "      <td>0.0</td>\n",
              "      <td>0.0</td>\n",
              "      <td>0.0</td>\n",
              "      <td>0.0</td>\n",
              "      <td>0.0</td>\n",
              "      <td>0.0</td>\n",
              "      <td>...</td>\n",
              "      <td>0.0</td>\n",
              "      <td>9.0</td>\n",
              "      <td>0.0</td>\n",
              "      <td>0.0</td>\n",
              "      <td>0.0</td>\n",
              "      <td>0.0</td>\n",
              "      <td>0.0</td>\n",
              "      <td>0.0</td>\n",
              "      <td>0.0</td>\n",
              "      <td>0.0</td>\n",
              "    </tr>\n",
              "    <tr>\n",
              "      <th>You Belong To Me</th>\n",
              "      <td>0.0</td>\n",
              "      <td>0.0</td>\n",
              "      <td>0.0</td>\n",
              "      <td>0.0</td>\n",
              "      <td>0.0</td>\n",
              "      <td>0.0</td>\n",
              "      <td>0.0</td>\n",
              "      <td>0.0</td>\n",
              "      <td>0.0</td>\n",
              "      <td>0.0</td>\n",
              "      <td>...</td>\n",
              "      <td>0.0</td>\n",
              "      <td>0.0</td>\n",
              "      <td>0.0</td>\n",
              "      <td>0.0</td>\n",
              "      <td>0.0</td>\n",
              "      <td>0.0</td>\n",
              "      <td>0.0</td>\n",
              "      <td>0.0</td>\n",
              "      <td>0.0</td>\n",
              "      <td>0.0</td>\n",
              "    </tr>\n",
              "    <tr>\n",
              "      <th>Zen and the Art of Motorcycle Maintenance: An Inquiry into Values</th>\n",
              "      <td>0.0</td>\n",
              "      <td>0.0</td>\n",
              "      <td>0.0</td>\n",
              "      <td>0.0</td>\n",
              "      <td>0.0</td>\n",
              "      <td>0.0</td>\n",
              "      <td>0.0</td>\n",
              "      <td>0.0</td>\n",
              "      <td>0.0</td>\n",
              "      <td>0.0</td>\n",
              "      <td>...</td>\n",
              "      <td>0.0</td>\n",
              "      <td>0.0</td>\n",
              "      <td>0.0</td>\n",
              "      <td>0.0</td>\n",
              "      <td>0.0</td>\n",
              "      <td>0.0</td>\n",
              "      <td>0.0</td>\n",
              "      <td>0.0</td>\n",
              "      <td>0.0</td>\n",
              "      <td>0.0</td>\n",
              "    </tr>\n",
              "    <tr>\n",
              "      <th>Zoya</th>\n",
              "      <td>0.0</td>\n",
              "      <td>0.0</td>\n",
              "      <td>0.0</td>\n",
              "      <td>0.0</td>\n",
              "      <td>0.0</td>\n",
              "      <td>0.0</td>\n",
              "      <td>0.0</td>\n",
              "      <td>0.0</td>\n",
              "      <td>0.0</td>\n",
              "      <td>0.0</td>\n",
              "      <td>...</td>\n",
              "      <td>0.0</td>\n",
              "      <td>0.0</td>\n",
              "      <td>0.0</td>\n",
              "      <td>0.0</td>\n",
              "      <td>0.0</td>\n",
              "      <td>0.0</td>\n",
              "      <td>0.0</td>\n",
              "      <td>0.0</td>\n",
              "      <td>0.0</td>\n",
              "      <td>0.0</td>\n",
              "    </tr>\n",
              "    <tr>\n",
              "      <th>\\O\\\" Is for Outlaw\"</th>\n",
              "      <td>0.0</td>\n",
              "      <td>0.0</td>\n",
              "      <td>0.0</td>\n",
              "      <td>0.0</td>\n",
              "      <td>0.0</td>\n",
              "      <td>0.0</td>\n",
              "      <td>0.0</td>\n",
              "      <td>0.0</td>\n",
              "      <td>0.0</td>\n",
              "      <td>0.0</td>\n",
              "      <td>...</td>\n",
              "      <td>0.0</td>\n",
              "      <td>0.0</td>\n",
              "      <td>0.0</td>\n",
              "      <td>0.0</td>\n",
              "      <td>8.0</td>\n",
              "      <td>0.0</td>\n",
              "      <td>0.0</td>\n",
              "      <td>0.0</td>\n",
              "      <td>0.0</td>\n",
              "      <td>0.0</td>\n",
              "    </tr>\n",
              "  </tbody>\n",
              "</table>\n",
              "<p>706 rows × 810 columns</p>\n",
              "</div>"
            ],
            "text/plain": [
              "user_id                                             254     2276    2766    \\\n",
              "book_title                                                                   \n",
              "1984                                                   9.0     0.0     0.0   \n",
              "1st to Die: A Novel                                    0.0     0.0     0.0   \n",
              "2nd Chance                                             0.0    10.0     0.0   \n",
              "4 Blondes                                              0.0     0.0     0.0   \n",
              "A Bend in the Road                                     0.0     0.0     7.0   \n",
              "...                                                    ...     ...     ...   \n",
              "Year of Wonders                                        0.0     0.0     0.0   \n",
              "You Belong To Me                                       0.0     0.0     0.0   \n",
              "Zen and the Art of Motorcycle Maintenance: An I...     0.0     0.0     0.0   \n",
              "Zoya                                                   0.0     0.0     0.0   \n",
              "\\O\\\" Is for Outlaw\"                                    0.0     0.0     0.0   \n",
              "\n",
              "user_id                                             2977    3363    4017    \\\n",
              "book_title                                                                   \n",
              "1984                                                   0.0     0.0     0.0   \n",
              "1st to Die: A Novel                                    0.0     0.0     0.0   \n",
              "2nd Chance                                             0.0     0.0     0.0   \n",
              "4 Blondes                                              0.0     0.0     0.0   \n",
              "A Bend in the Road                                     0.0     0.0     0.0   \n",
              "...                                                    ...     ...     ...   \n",
              "Year of Wonders                                        7.0     0.0     0.0   \n",
              "You Belong To Me                                       0.0     0.0     0.0   \n",
              "Zen and the Art of Motorcycle Maintenance: An I...     0.0     0.0     0.0   \n",
              "Zoya                                                   0.0     0.0     0.0   \n",
              "\\O\\\" Is for Outlaw\"                                    0.0     0.0     0.0   \n",
              "\n",
              "user_id                                             4385    6251    6323    \\\n",
              "book_title                                                                   \n",
              "1984                                                   0.0     0.0     0.0   \n",
              "1st to Die: A Novel                                    0.0     0.0     0.0   \n",
              "2nd Chance                                             0.0     0.0     0.0   \n",
              "4 Blondes                                              0.0     0.0     0.0   \n",
              "A Bend in the Road                                     0.0     0.0     0.0   \n",
              "...                                                    ...     ...     ...   \n",
              "Year of Wonders                                        0.0     0.0     0.0   \n",
              "You Belong To Me                                       0.0     0.0     0.0   \n",
              "Zen and the Art of Motorcycle Maintenance: An I...     0.0     0.0     0.0   \n",
              "Zoya                                                   0.0     0.0     0.0   \n",
              "\\O\\\" Is for Outlaw\"                                    0.0     0.0     0.0   \n",
              "\n",
              "user_id                                             6543    ...  271705  \\\n",
              "book_title                                                  ...           \n",
              "1984                                                   0.0  ...    10.0   \n",
              "1st to Die: A Novel                                    9.0  ...     0.0   \n",
              "2nd Chance                                             0.0  ...     0.0   \n",
              "4 Blondes                                              0.0  ...     0.0   \n",
              "A Bend in the Road                                     0.0  ...     0.0   \n",
              "...                                                    ...  ...     ...   \n",
              "Year of Wonders                                        0.0  ...     0.0   \n",
              "You Belong To Me                                       0.0  ...     0.0   \n",
              "Zen and the Art of Motorcycle Maintenance: An I...     0.0  ...     0.0   \n",
              "Zoya                                                   0.0  ...     0.0   \n",
              "\\O\\\" Is for Outlaw\"                                    0.0  ...     0.0   \n",
              "\n",
              "user_id                                             273979  274004  274061  \\\n",
              "book_title                                                                   \n",
              "1984                                                   0.0     0.0     0.0   \n",
              "1st to Die: A Novel                                    0.0     0.0     0.0   \n",
              "2nd Chance                                             0.0     0.0     0.0   \n",
              "4 Blondes                                              0.0     0.0     0.0   \n",
              "A Bend in the Road                                     0.0     0.0     0.0   \n",
              "...                                                    ...     ...     ...   \n",
              "Year of Wonders                                        9.0     0.0     0.0   \n",
              "You Belong To Me                                       0.0     0.0     0.0   \n",
              "Zen and the Art of Motorcycle Maintenance: An I...     0.0     0.0     0.0   \n",
              "Zoya                                                   0.0     0.0     0.0   \n",
              "\\O\\\" Is for Outlaw\"                                    0.0     0.0     0.0   \n",
              "\n",
              "user_id                                             274301  274308  275970  \\\n",
              "book_title                                                                   \n",
              "1984                                                   0.0     0.0     0.0   \n",
              "1st to Die: A Novel                                    0.0     0.0     0.0   \n",
              "2nd Chance                                             0.0     0.0     0.0   \n",
              "4 Blondes                                              0.0     0.0     0.0   \n",
              "A Bend in the Road                                     0.0     0.0     0.0   \n",
              "...                                                    ...     ...     ...   \n",
              "Year of Wonders                                        0.0     0.0     0.0   \n",
              "You Belong To Me                                       0.0     0.0     0.0   \n",
              "Zen and the Art of Motorcycle Maintenance: An I...     0.0     0.0     0.0   \n",
              "Zoya                                                   0.0     0.0     0.0   \n",
              "\\O\\\" Is for Outlaw\"                                    8.0     0.0     0.0   \n",
              "\n",
              "user_id                                             277427  277639  278418  \n",
              "book_title                                                                  \n",
              "1984                                                   0.0     0.0     0.0  \n",
              "1st to Die: A Novel                                    0.0     0.0     0.0  \n",
              "2nd Chance                                             0.0     0.0     0.0  \n",
              "4 Blondes                                              0.0     0.0     0.0  \n",
              "A Bend in the Road                                     0.0     0.0     0.0  \n",
              "...                                                    ...     ...     ...  \n",
              "Year of Wonders                                        0.0     0.0     0.0  \n",
              "You Belong To Me                                       0.0     0.0     0.0  \n",
              "Zen and the Art of Motorcycle Maintenance: An I...     0.0     0.0     0.0  \n",
              "Zoya                                                   0.0     0.0     0.0  \n",
              "\\O\\\" Is for Outlaw\"                                    0.0     0.0     0.0  \n",
              "\n",
              "[706 rows x 810 columns]"
            ]
          },
          "execution_count": 257,
          "metadata": {},
          "output_type": "execute_result"
        }
      ],
      "source": [
        "pt"
      ]
    },
    {
      "cell_type": "code",
      "execution_count": null,
      "id": "afa2ff34",
      "metadata": {
        "id": "afa2ff34"
      },
      "outputs": [],
      "source": [
        "from sklearn.metrics.pairwise import cosine_similarity"
      ]
    },
    {
      "cell_type": "code",
      "execution_count": null,
      "id": "58518115",
      "metadata": {
        "id": "58518115"
      },
      "outputs": [],
      "source": [
        "similarity_scores = cosine_similarity(pt)\n"
      ]
    },
    {
      "cell_type": "code",
      "execution_count": null,
      "id": "02bfeca5",
      "metadata": {
        "id": "02bfeca5",
        "outputId": "1156d39f-d342-40e3-e3f9-94e63b90a54e"
      },
      "outputs": [
        {
          "data": {
            "text/plain": [
              "(706, 706)"
            ]
          },
          "execution_count": 260,
          "metadata": {},
          "output_type": "execute_result"
        }
      ],
      "source": [
        "similarity_scores.shape\n"
      ]
    },
    {
      "cell_type": "code",
      "execution_count": null,
      "id": "53e71305",
      "metadata": {
        "id": "53e71305"
      },
      "outputs": [],
      "source": [
        "def recommend(book_name):\n",
        "    # index fetch\n",
        "    index = np.where(pt.index==book_name)[0][0]\n",
        "    similar_items = sorted(list(enumerate(similarity_scores[index])),key=lambda x:x[1],reverse=True)[1:5]\n",
        "    \n",
        "    data = []\n",
        "    for i in similar_items:\n",
        "        item = []\n",
        "        temp_df = df_book[df_book['book_title'] == pt.index[i[0]]]\n",
        "        item.extend(list(temp_df.drop_duplicates('book_title')['book_title'].values))\n",
        "        item.extend(list(temp_df.drop_duplicates('book_title')['book_author'].values))\n",
        "        item.extend(list(temp_df.drop_duplicates('book_title')['image_url_m'].values))\n",
        "        \n",
        "        data.append(item)\n",
        "    \n",
        "    return data"
      ]
    },
    {
      "cell_type": "code",
      "execution_count": null,
      "id": "6f58a162",
      "metadata": {
        "id": "6f58a162",
        "outputId": "3d490bf1-8d69-49fd-e254-56f9e3c3ef8d"
      },
      "outputs": [
        {
          "data": {
            "text/plain": [
              "[['Animal Farm',\n",
              "  'George Orwell',\n",
              "  'http://images.amazon.com/images/P/0451526341.01.MZZZZZZZ.jpg'],\n",
              " [\"The Handmaid's Tale\",\n",
              "  'Margaret Atwood',\n",
              "  'http://images.amazon.com/images/P/0449212602.01.MZZZZZZZ.jpg'],\n",
              " ['Brave New World',\n",
              "  'Aldous Huxley',\n",
              "  'http://images.amazon.com/images/P/0060809833.01.MZZZZZZZ.jpg'],\n",
              " ['The Vampire Lestat (Vampire Chronicles, Book II)',\n",
              "  'ANNE RICE',\n",
              "  'http://images.amazon.com/images/P/0345313860.01.MZZZZZZZ.jpg']]"
            ]
          },
          "execution_count": 262,
          "metadata": {},
          "output_type": "execute_result"
        }
      ],
      "source": [
        "recommend('1984')"
      ]
    },
    {
      "cell_type": "code",
      "execution_count": null,
      "id": "b20fadb9",
      "metadata": {
        "id": "b20fadb9",
        "outputId": "314715c3-b3d8-4d92-f4ad-190282907610"
      },
      "outputs": [
        {
          "data": {
            "text/plain": [
              "\"The Handmaid's Tale\""
            ]
          },
          "execution_count": 263,
          "metadata": {},
          "output_type": "execute_result"
        }
      ],
      "source": [
        "pt.index[545]"
      ]
    },
    {
      "cell_type": "code",
      "execution_count": null,
      "id": "e23a10e3",
      "metadata": {
        "id": "e23a10e3"
      },
      "outputs": [],
      "source": [
        "import pickle\n",
        "pickle.dump(popular_df,open('popular.pkl','wb'))"
      ]
    },
    {
      "cell_type": "code",
      "execution_count": null,
      "id": "e259ecb5",
      "metadata": {
        "id": "e259ecb5",
        "outputId": "3a67c283-33ae-4096-8a12-fafd8d78856e"
      },
      "outputs": [
        {
          "data": {
            "text/html": [
              "<div>\n",
              "<style scoped>\n",
              "    .dataframe tbody tr th:only-of-type {\n",
              "        vertical-align: middle;\n",
              "    }\n",
              "\n",
              "    .dataframe tbody tr th {\n",
              "        vertical-align: top;\n",
              "    }\n",
              "\n",
              "    .dataframe thead th {\n",
              "        text-align: right;\n",
              "    }\n",
              "</style>\n",
              "<table border=\"1\" class=\"dataframe\">\n",
              "  <thead>\n",
              "    <tr style=\"text-align: right;\">\n",
              "      <th></th>\n",
              "      <th>isbn</th>\n",
              "      <th>book_title</th>\n",
              "      <th>book_author</th>\n",
              "      <th>year_of_publication</th>\n",
              "      <th>publisher</th>\n",
              "      <th>image_url_s</th>\n",
              "      <th>image_url_m</th>\n",
              "      <th>image_url_l</th>\n",
              "    </tr>\n",
              "  </thead>\n",
              "  <tbody>\n",
              "    <tr>\n",
              "      <th>0</th>\n",
              "      <td>0195153448</td>\n",
              "      <td>Classical Mythology</td>\n",
              "      <td>Mark P. O. Morford</td>\n",
              "      <td>2002</td>\n",
              "      <td>Oxford University Press</td>\n",
              "      <td>http://images.amazon.com/images/P/0195153448.0...</td>\n",
              "      <td>http://images.amazon.com/images/P/0195153448.0...</td>\n",
              "      <td>http://images.amazon.com/images/P/0195153448.0...</td>\n",
              "    </tr>\n",
              "    <tr>\n",
              "      <th>1</th>\n",
              "      <td>0002005018</td>\n",
              "      <td>Clara Callan</td>\n",
              "      <td>Richard Bruce Wright</td>\n",
              "      <td>2001</td>\n",
              "      <td>HarperFlamingo Canada</td>\n",
              "      <td>http://images.amazon.com/images/P/0002005018.0...</td>\n",
              "      <td>http://images.amazon.com/images/P/0002005018.0...</td>\n",
              "      <td>http://images.amazon.com/images/P/0002005018.0...</td>\n",
              "    </tr>\n",
              "    <tr>\n",
              "      <th>2</th>\n",
              "      <td>0060973129</td>\n",
              "      <td>Decision in Normandy</td>\n",
              "      <td>Carlo D'Este</td>\n",
              "      <td>1991</td>\n",
              "      <td>HarperPerennial</td>\n",
              "      <td>http://images.amazon.com/images/P/0060973129.0...</td>\n",
              "      <td>http://images.amazon.com/images/P/0060973129.0...</td>\n",
              "      <td>http://images.amazon.com/images/P/0060973129.0...</td>\n",
              "    </tr>\n",
              "    <tr>\n",
              "      <th>3</th>\n",
              "      <td>0374157065</td>\n",
              "      <td>Flu: The Story of the Great Influenza Pandemic...</td>\n",
              "      <td>Gina Bari Kolata</td>\n",
              "      <td>1999</td>\n",
              "      <td>Farrar Straus Giroux</td>\n",
              "      <td>http://images.amazon.com/images/P/0374157065.0...</td>\n",
              "      <td>http://images.amazon.com/images/P/0374157065.0...</td>\n",
              "      <td>http://images.amazon.com/images/P/0374157065.0...</td>\n",
              "    </tr>\n",
              "    <tr>\n",
              "      <th>4</th>\n",
              "      <td>0393045218</td>\n",
              "      <td>The Mummies of Urumchi</td>\n",
              "      <td>E. J. W. Barber</td>\n",
              "      <td>1999</td>\n",
              "      <td>W. W. Norton &amp;amp; Company</td>\n",
              "      <td>http://images.amazon.com/images/P/0393045218.0...</td>\n",
              "      <td>http://images.amazon.com/images/P/0393045218.0...</td>\n",
              "      <td>http://images.amazon.com/images/P/0393045218.0...</td>\n",
              "    </tr>\n",
              "    <tr>\n",
              "      <th>...</th>\n",
              "      <td>...</td>\n",
              "      <td>...</td>\n",
              "      <td>...</td>\n",
              "      <td>...</td>\n",
              "      <td>...</td>\n",
              "      <td>...</td>\n",
              "      <td>...</td>\n",
              "      <td>...</td>\n",
              "    </tr>\n",
              "    <tr>\n",
              "      <th>271354</th>\n",
              "      <td>0449906736</td>\n",
              "      <td>Flashpoints: Promise and Peril in a New World</td>\n",
              "      <td>Robin Wright</td>\n",
              "      <td>1993</td>\n",
              "      <td>Ballantine Books</td>\n",
              "      <td>http://images.amazon.com/images/P/0449906736.0...</td>\n",
              "      <td>http://images.amazon.com/images/P/0449906736.0...</td>\n",
              "      <td>http://images.amazon.com/images/P/0449906736.0...</td>\n",
              "    </tr>\n",
              "    <tr>\n",
              "      <th>271356</th>\n",
              "      <td>0525447644</td>\n",
              "      <td>From One to One Hundred</td>\n",
              "      <td>Teri Sloat</td>\n",
              "      <td>1991</td>\n",
              "      <td>Dutton Books</td>\n",
              "      <td>http://images.amazon.com/images/P/0525447644.0...</td>\n",
              "      <td>http://images.amazon.com/images/P/0525447644.0...</td>\n",
              "      <td>http://images.amazon.com/images/P/0525447644.0...</td>\n",
              "    </tr>\n",
              "    <tr>\n",
              "      <th>271357</th>\n",
              "      <td>006008667X</td>\n",
              "      <td>Lily Dale : The True Story of the Town that Ta...</td>\n",
              "      <td>Christine Wicker</td>\n",
              "      <td>2004</td>\n",
              "      <td>HarperSanFrancisco</td>\n",
              "      <td>http://images.amazon.com/images/P/006008667X.0...</td>\n",
              "      <td>http://images.amazon.com/images/P/006008667X.0...</td>\n",
              "      <td>http://images.amazon.com/images/P/006008667X.0...</td>\n",
              "    </tr>\n",
              "    <tr>\n",
              "      <th>271358</th>\n",
              "      <td>0192126040</td>\n",
              "      <td>Republic (World's Classics)</td>\n",
              "      <td>Plato</td>\n",
              "      <td>1996</td>\n",
              "      <td>Oxford University Press</td>\n",
              "      <td>http://images.amazon.com/images/P/0192126040.0...</td>\n",
              "      <td>http://images.amazon.com/images/P/0192126040.0...</td>\n",
              "      <td>http://images.amazon.com/images/P/0192126040.0...</td>\n",
              "    </tr>\n",
              "    <tr>\n",
              "      <th>271359</th>\n",
              "      <td>0767409752</td>\n",
              "      <td>A Guided Tour of Rene Descartes' Meditations o...</td>\n",
              "      <td>Christopher  Biffle</td>\n",
              "      <td>2000</td>\n",
              "      <td>McGraw-Hill Humanities/Social Sciences/Languages</td>\n",
              "      <td>http://images.amazon.com/images/P/0767409752.0...</td>\n",
              "      <td>http://images.amazon.com/images/P/0767409752.0...</td>\n",
              "      <td>http://images.amazon.com/images/P/0767409752.0...</td>\n",
              "    </tr>\n",
              "  </tbody>\n",
              "</table>\n",
              "<p>242135 rows × 8 columns</p>\n",
              "</div>"
            ],
            "text/plain": [
              "              isbn                                         book_title  \\\n",
              "0       0195153448                                Classical Mythology   \n",
              "1       0002005018                                       Clara Callan   \n",
              "2       0060973129                               Decision in Normandy   \n",
              "3       0374157065  Flu: The Story of the Great Influenza Pandemic...   \n",
              "4       0393045218                             The Mummies of Urumchi   \n",
              "...            ...                                                ...   \n",
              "271354  0449906736      Flashpoints: Promise and Peril in a New World   \n",
              "271356  0525447644                            From One to One Hundred   \n",
              "271357  006008667X  Lily Dale : The True Story of the Town that Ta...   \n",
              "271358  0192126040                        Republic (World's Classics)   \n",
              "271359  0767409752  A Guided Tour of Rene Descartes' Meditations o...   \n",
              "\n",
              "                 book_author year_of_publication  \\\n",
              "0         Mark P. O. Morford                2002   \n",
              "1       Richard Bruce Wright                2001   \n",
              "2               Carlo D'Este                1991   \n",
              "3           Gina Bari Kolata                1999   \n",
              "4            E. J. W. Barber                1999   \n",
              "...                      ...                 ...   \n",
              "271354          Robin Wright                1993   \n",
              "271356            Teri Sloat                1991   \n",
              "271357      Christine Wicker                2004   \n",
              "271358                 Plato                1996   \n",
              "271359   Christopher  Biffle                2000   \n",
              "\n",
              "                                               publisher  \\\n",
              "0                                Oxford University Press   \n",
              "1                                  HarperFlamingo Canada   \n",
              "2                                        HarperPerennial   \n",
              "3                                   Farrar Straus Giroux   \n",
              "4                             W. W. Norton &amp; Company   \n",
              "...                                                  ...   \n",
              "271354                                  Ballantine Books   \n",
              "271356                                      Dutton Books   \n",
              "271357                                HarperSanFrancisco   \n",
              "271358                           Oxford University Press   \n",
              "271359  McGraw-Hill Humanities/Social Sciences/Languages   \n",
              "\n",
              "                                              image_url_s  \\\n",
              "0       http://images.amazon.com/images/P/0195153448.0...   \n",
              "1       http://images.amazon.com/images/P/0002005018.0...   \n",
              "2       http://images.amazon.com/images/P/0060973129.0...   \n",
              "3       http://images.amazon.com/images/P/0374157065.0...   \n",
              "4       http://images.amazon.com/images/P/0393045218.0...   \n",
              "...                                                   ...   \n",
              "271354  http://images.amazon.com/images/P/0449906736.0...   \n",
              "271356  http://images.amazon.com/images/P/0525447644.0...   \n",
              "271357  http://images.amazon.com/images/P/006008667X.0...   \n",
              "271358  http://images.amazon.com/images/P/0192126040.0...   \n",
              "271359  http://images.amazon.com/images/P/0767409752.0...   \n",
              "\n",
              "                                              image_url_m  \\\n",
              "0       http://images.amazon.com/images/P/0195153448.0...   \n",
              "1       http://images.amazon.com/images/P/0002005018.0...   \n",
              "2       http://images.amazon.com/images/P/0060973129.0...   \n",
              "3       http://images.amazon.com/images/P/0374157065.0...   \n",
              "4       http://images.amazon.com/images/P/0393045218.0...   \n",
              "...                                                   ...   \n",
              "271354  http://images.amazon.com/images/P/0449906736.0...   \n",
              "271356  http://images.amazon.com/images/P/0525447644.0...   \n",
              "271357  http://images.amazon.com/images/P/006008667X.0...   \n",
              "271358  http://images.amazon.com/images/P/0192126040.0...   \n",
              "271359  http://images.amazon.com/images/P/0767409752.0...   \n",
              "\n",
              "                                              image_url_l  \n",
              "0       http://images.amazon.com/images/P/0195153448.0...  \n",
              "1       http://images.amazon.com/images/P/0002005018.0...  \n",
              "2       http://images.amazon.com/images/P/0060973129.0...  \n",
              "3       http://images.amazon.com/images/P/0374157065.0...  \n",
              "4       http://images.amazon.com/images/P/0393045218.0...  \n",
              "...                                                   ...  \n",
              "271354  http://images.amazon.com/images/P/0449906736.0...  \n",
              "271356  http://images.amazon.com/images/P/0525447644.0...  \n",
              "271357  http://images.amazon.com/images/P/006008667X.0...  \n",
              "271358  http://images.amazon.com/images/P/0192126040.0...  \n",
              "271359  http://images.amazon.com/images/P/0767409752.0...  \n",
              "\n",
              "[242135 rows x 8 columns]"
            ]
          },
          "execution_count": 265,
          "metadata": {},
          "output_type": "execute_result"
        }
      ],
      "source": [
        "df_book.drop_duplicates('book_title')"
      ]
    },
    {
      "cell_type": "code",
      "execution_count": null,
      "id": "50588d38",
      "metadata": {
        "id": "50588d38"
      },
      "outputs": [],
      "source": [
        "pickle.dump(pt,open('pt.pkl','wb'))\n",
        "pickle.dump(df_book,open('books.pkl','wb'))\n",
        "pickle.dump(similarity_scores,open('similarity_scores.pkl','wb'))"
      ]
    },
    {
      "cell_type": "markdown",
      "id": "5afa9ea9",
      "metadata": {
        "id": "5afa9ea9"
      },
      "source": [
        "# Conlusion"
      ]
    },
    {
      "cell_type": "raw",
      "id": "fe5c6c75",
      "metadata": {
        "id": "fe5c6c75"
      },
      "source": [
        "\n",
        "\n",
        "Agatha Christie has 600 number of book which is top one author who have large number of book.rather than william shakespre is great author but it followed by agatha\n",
        "\n",
        "Harlequin has most number of books published, followed by Silhouette.\n",
        "\n",
        "Number of Books published in yearly are between 1950 - 2005.\n",
        "\n",
        "Most of the users are in 20-30 and are 30-40 prefer more books.\n",
        "\n",
        "As per ratings \"Selected Poems\" has been rated most followed by \"Little Women\". The countplot shows users have rated 0 the most, which means they haven't rated books at all.\n",
        "\n",
        "The top 10 books recommendation as per ratings with top \"The lovely Bones: A novel\" with 707 book ratings. But this are not based on some recommendation system. They are top 10 books as per ratings."
      ]
    },
    {
      "cell_type": "code",
      "execution_count": null,
      "id": "4d46986f",
      "metadata": {
        "id": "4d46986f"
      },
      "outputs": [],
      "source": []
    }
  ],
  "metadata": {
    "kernelspec": {
      "display_name": "Python 3 (ipykernel)",
      "language": "python",
      "name": "python3"
    },
    "language_info": {
      "codemirror_mode": {
        "name": "ipython",
        "version": 3
      },
      "file_extension": ".py",
      "mimetype": "text/x-python",
      "name": "python",
      "nbconvert_exporter": "python",
      "pygments_lexer": "ipython3",
      "version": "3.9.12"
    },
    "colab": {
      "provenance": [],
      "include_colab_link": true
    }
  },
  "nbformat": 4,
  "nbformat_minor": 5
}